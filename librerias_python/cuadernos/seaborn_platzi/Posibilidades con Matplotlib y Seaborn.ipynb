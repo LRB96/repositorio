{
 "cells": [
  {
   "cell_type": "markdown",
   "id": "5878f489",
   "metadata": {},
   "source": [
    "                                            Posibilidades con Matplotlib y Seaborn\n",
    "\n",
    "                                Temas de Matplotlib\n",
    "    \n",
    "Pyplot\n",
    "\n",
    "Orientado a objetos\n",
    "\n",
    "Subplots\n",
    "\n",
    "Tittle, legends, labels\n",
    "\n",
    "Colores y estilos\n",
    "\n",
    "Otros gráficos\n",
    "\n",
    "Tamaños\n",
    "\n",
    "                                    Temas de Seaborn\n",
    "    \n",
    "Estructura\n",
    "\n",
    "Parámetros más usados\n",
    "\n",
    "Distributions\n",
    "\n",
    "Relational\n",
    "\n",
    "Categorical\n",
    "\n",
    "Joinplot - Pairplot\n",
    "\n",
    "Heatmap"
   ]
  },
  {
   "cell_type": "code",
   "execution_count": null,
   "id": "bb89d58c",
   "metadata": {},
   "outputs": [],
   "source": []
  }
 ],
 "metadata": {
  "kernelspec": {
   "display_name": "Python 3 (ipykernel)",
   "language": "python",
   "name": "python3"
  },
  "language_info": {
   "codemirror_mode": {
    "name": "ipython",
    "version": 3
   },
   "file_extension": ".py",
   "mimetype": "text/x-python",
   "name": "python",
   "nbconvert_exporter": "python",
   "pygments_lexer": "ipython3",
   "version": "3.9.13"
  }
 },
 "nbformat": 4,
 "nbformat_minor": 5
}
