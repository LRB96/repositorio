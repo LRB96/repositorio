{
 "cells": [
  {
   "cell_type": "code",
   "execution_count": 1,
   "id": "29506f33",
   "metadata": {},
   "outputs": [],
   "source": [
    "import numpy as np\n",
    "import pandas as pd"
   ]
  },
  {
   "cell_type": "markdown",
   "id": "684b64a6",
   "metadata": {},
   "source": [
    "Ya entendiste los conceptos básicos de Numpy, ahora hay que entender como funciona la librería de Pandas, esta nos ayuda a hacer una mejor exploración y análisis de los datos.\n",
    "\n",
    "    Pandas\n",
    "    \n",
    "Pandas es una librería de Python especializada en el manejo y análisis de estructuras de datos. El nombre viene de “Panel data”.\n",
    "\n",
    "• Velocidad\n",
    "• Poco código\n",
    "• Múltiples formatos de archivos\n",
    "• Alineación inteligente\n",
    "\n",
    "    Pandas Series\n",
    "    \n",
    "Es muy parecido a un array de una dimensión (o vector) de NumPy.\n",
    "\n",
    "• Arreglo unidimensional indexado\n",
    "• Búsqueda por índice\n",
    "• Slicing\n",
    "• Operaciones aritméticas\n",
    "• Distintos tipos de datos\n",
    "\n",
    "    Pandas DataFrame\n",
    "    \n",
    "Muy parecido a las estructuras matriciales trabajadas con NumPy.\n",
    "\n",
    "• Estructura principal\n",
    "• Arreglo de dos dimensiones\n",
    "• Búsqueda por índice (columnas o filas)\n",
    "• Slicing\n",
    "• Operaciones aritméticas\n",
    "• Distintos tipos de datos\n",
    "• Tamaño variable\n",
    "\n",
    "    Series\n",
    "    \n",
    "Es un arreglo unidimensional indexado\n",
    "\n",
    "import pandas as pd\n",
    "\n",
    "Definiendo una lista con índices específicos."
   ]
  },
  {
   "cell_type": "markdown",
   "id": "fd11ca1f",
   "metadata": {},
   "source": [
    "psg_players = pd.Series(['Navas','Mbappe','Neymar','Messi'], index=[1,7,10,30])\n",
    "\n",
    "psg_players \n",
    "---> 1      Navas\n",
    "     7     Mbappe\n",
    "     10    Neymar\n",
    "     30     Messi\n",
    "     dtype: object   \n",
    "            \n",
    "Búsqueda por índices\n",
    "\n",
    "dict = {1: 'Navas', 7: 'Mbappe', 10: 'Neymar', 30:'Messi'}\n",
    "pd.Series(dict)\n",
    "---> 1 Navas\n",
    "7 Mbappe\n",
    "10 Neymar\n",
    "30 Messi\n",
    "dtype: object"
   ]
  },
  {
   "cell_type": "markdown",
   "id": "da267afe",
   "metadata": {},
   "source": [
    "psg_players[7]\n",
    "----> 'Mbappe'\n",
    "\n",
    "Búsqueda mediante Slicing\n",
    "\n",
    "psg_players[0:3]\n",
    "-----> 0     Navas\n",
    "       1    Mbappe\n",
    "       2    Neymar\n",
    "    dtype: object\n",
    "        \n",
    "    Pandas\n",
    "    \n",
    "Similar a la estructura matricial\n",
    "\n",
    "dict = {'Jugador':['Navas','Mbappe','Neymar','Messi'],\n",
    " 'Altura':[183.0, 170.0, 170.0, 163.0],\n",
    "  'Goles':[2, 200, 150, 500]}\n",
    "df_players = pd.DataFrame(dict, index=[1,7,10,30])\n",
    "--->   Jugador Altura Goles\n",
    "        1 Navas    183    2\n",
    "        7 Mbappe   170    200\n",
    "        10 Neymar   170    150\n",
    "        30 Messi    163    500\n",
    "        \n",
    "    Búsqueda por índices. Columnas\n",
    "\n",
    "df_players.columns\n",
    "---> Index(['Jugador', 'Altura', 'Goles'], dtype='object')\n",
    "    Búsqueda por índice.\n",
    "\n",
    "df_players.index\n",
    "------> RangeIndex(start=0, stop=4, step=1)"
   ]
  },
  {
   "cell_type": "code",
   "execution_count": 2,
   "id": "1c686ec4",
   "metadata": {},
   "outputs": [
    {
     "data": {
      "text/plain": [
       "1      Navas\n",
       "7     Neymar\n",
       "20    Mbappe\n",
       "30     Messi\n",
       "dtype: object"
      ]
     },
     "execution_count": 2,
     "metadata": {},
     "output_type": "execute_result"
    }
   ],
   "source": [
    "psg_players=pd.Series([\"Navas\",\"Neymar\",\"Mbappe\",\"Messi\"],index=[1,7,20,30])\n",
    "psg_players"
   ]
  },
  {
   "cell_type": "code",
   "execution_count": 17,
   "id": "a92daa72",
   "metadata": {},
   "outputs": [],
   "source": [
    "dict={\"Juagdor\":[\"Navas\",\"Mbappe\",\"Neymar\",\"Messi\"],\n",
    "     \"Altura\":[183.0,170.0,170.0,170.0],\n",
    "     \"Goles\":[2,200,200,200]}"
   ]
  },
  {
   "cell_type": "code",
   "execution_count": 31,
   "id": "5098e95d",
   "metadata": {},
   "outputs": [
    {
     "data": {
      "text/html": [
       "<div>\n",
       "<style scoped>\n",
       "    .dataframe tbody tr th:only-of-type {\n",
       "        vertical-align: middle;\n",
       "    }\n",
       "\n",
       "    .dataframe tbody tr th {\n",
       "        vertical-align: top;\n",
       "    }\n",
       "\n",
       "    .dataframe thead th {\n",
       "        text-align: right;\n",
       "    }\n",
       "</style>\n",
       "<table border=\"1\" class=\"dataframe\">\n",
       "  <thead>\n",
       "    <tr style=\"text-align: right;\">\n",
       "      <th></th>\n",
       "      <th>Juagdor</th>\n",
       "      <th>Altura</th>\n",
       "      <th>Goles</th>\n",
       "    </tr>\n",
       "  </thead>\n",
       "  <tbody>\n",
       "    <tr>\n",
       "      <th>1</th>\n",
       "      <td>Navas</td>\n",
       "      <td>183.0</td>\n",
       "      <td>2</td>\n",
       "    </tr>\n",
       "    <tr>\n",
       "      <th>7</th>\n",
       "      <td>Mbappe</td>\n",
       "      <td>170.0</td>\n",
       "      <td>200</td>\n",
       "    </tr>\n",
       "    <tr>\n",
       "      <th>20</th>\n",
       "      <td>Neymar</td>\n",
       "      <td>170.0</td>\n",
       "      <td>200</td>\n",
       "    </tr>\n",
       "    <tr>\n",
       "      <th>30</th>\n",
       "      <td>Messi</td>\n",
       "      <td>170.0</td>\n",
       "      <td>200</td>\n",
       "    </tr>\n",
       "  </tbody>\n",
       "</table>\n",
       "</div>"
      ],
      "text/plain": [
       "   Juagdor  Altura  Goles\n",
       "1    Navas   183.0      2\n",
       "7   Mbappe   170.0    200\n",
       "20  Neymar   170.0    200\n",
       "30   Messi   170.0    200"
      ]
     },
     "execution_count": 31,
     "metadata": {},
     "output_type": "execute_result"
    }
   ],
   "source": [
    "psg_data=pd.DataFrame(dict,index=[1,7,20,30])\n",
    "psg_data"
   ]
  },
  {
   "cell_type": "code",
   "execution_count": 33,
   "id": "6fadca1c",
   "metadata": {},
   "outputs": [
    {
     "data": {
      "text/plain": [
       "Index(['Juagdor', 'Altura', 'Goles'], dtype='object')"
      ]
     },
     "execution_count": 33,
     "metadata": {},
     "output_type": "execute_result"
    }
   ],
   "source": [
    "psg_data.columns"
   ]
  },
  {
   "cell_type": "code",
   "execution_count": 34,
   "id": "8b7f0b32",
   "metadata": {},
   "outputs": [
    {
     "data": {
      "text/plain": [
       "Int64Index([1, 7, 20, 30], dtype='int64')"
      ]
     },
     "execution_count": 34,
     "metadata": {},
     "output_type": "execute_result"
    }
   ],
   "source": [
    "psg_data.index"
   ]
  },
  {
   "cell_type": "code",
   "execution_count": 36,
   "id": "1b8173d2",
   "metadata": {},
   "outputs": [
    {
     "data": {
      "text/plain": [
       "1      Navas\n",
       "7     Mbappe\n",
       "20     Messi\n",
       "30    Neymar\n",
       "dtype: object"
      ]
     },
     "execution_count": 36,
     "metadata": {},
     "output_type": "execute_result"
    }
   ],
   "source": [
    "dict={1:\"Navas\",7:\"Mbappe\",20:\"Messi\",30:\"Neymar\"}\n",
    "pd.Series(dict)"
   ]
  }
 ],
 "metadata": {
  "kernelspec": {
   "display_name": "Python 3 (ipykernel)",
   "language": "python",
   "name": "python3"
  },
  "language_info": {
   "codemirror_mode": {
    "name": "ipython",
    "version": 3
   },
   "file_extension": ".py",
   "mimetype": "text/x-python",
   "name": "python",
   "nbconvert_exporter": "python",
   "pygments_lexer": "ipython3",
   "version": "3.10.9"
  }
 },
 "nbformat": 4,
 "nbformat_minor": 5
}
