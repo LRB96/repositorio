{
 "cells": [
  {
   "cell_type": "markdown",
   "id": "fd7bfb3a-8aff-4c18-9c32-4b9701391549",
   "metadata": {},
   "source": [
    "Ω Omega = Universo\n",
    "U = Unión: Todos los elementos de los conjuntos se unen\n",
    "∩ = Intersección: Son los elementos que se comparten entre los conjuntos\n",
    "∈ = Pertenece: Indica que un elemento (representado por la letra minúscula) le pertenece a un conjunto\n",
    "∉ =No Pertenece: Indica que el elemento no pertenece al conjunto.\n",
    "∅= Nulo: Indica que el conjunto es nulo o vacío. También se puede representar como {}\n",
    "A={1,2,3,4} B={3,4,5,6} de esta manera se indica los elementos de un conjunto.\n",
    "|\n",
    "    Conjuntos de números\n",
    "    \n",
    "| = tal qué\n",
    "N=Numeros naturales: {1,2,3,4,…|n≠0}\n",
    "Z= números enteros: {…,-2,-1,0,1,2,…}\n",
    "Q= Números racionales:{a/b|a,b∈Z , b≠0} = “a/b” tal qué \"a\"y “b” pertenencen a los números enteros y a su vez “b” es distinto que cero.\n",
    "I= números irracionales:{π,e,raiz cuadrada}\n",
    "R= Números reales: {N U Z U Q U I} Unión de todos los números detallados anteriormente\n",
    "\n",
    "|\n",
    "Función / Aplicación\n",
    "f: X -> Y = Función X se vuelve a Y\n",
    "f: R→ R+ =f(x)=abs(x)=|x| :Una función que traslada los números reales a números reales positivos. Valor Absoluto."
   ]
  },
  {
   "cell_type": "markdown",
   "id": "b7e85d6b-cd45-49f4-bd75-31a922bb5b52",
   "metadata": {},
   "source": [
    "Mini glosario de teoría de conjuntos 3\n",
    "\n",
    "Los diagramas de Venn son otra forma de representar un conjunto de manera gráfica. Los diagramas nos permiten comprender y analizar fácilmente los conjuntos.\n",
    "\n",
    "Al conjunto que no contiene elementos se le llama conjunto vació y se denota con el símbolo ϕ\n",
    "observación: El conjunto que tenga solo el elemento 0 o el ϕ es no vacío.\n",
    "\n",
    "La unión de dos conjuntos A y B es el conjunto formado por todos los elementos de ambos conjuntos sin repetir ninguno y se representa así: A ∪ B = {x | x ∈ A ó x ∈ B}\n",
    "\n",
    "La intersección de dos conjuntos A y B son el conjunto de elementos que forman parte tanto de A como de B, es decir: A ∩ B = {x | x ∈ A y x ∈ B}\n",
    "\n",
    "La diferencia de dos conjuntos A y B, es un conjunto formado por todos los elementos de A que no están en B y se escribe así: A\\B = A - B = {x ∈ A | x ∉ B}\n",
    "\n",
    "Dados dos conjuntos, el conjunto universal Ω que es el conjunto que incluye a todos los elementos y un conjunto A subconjunto de Ω. El complemento de A son todos aquellos elementos del conjunto universal que no pertenecen a A, es decir: A’ = {x ∈ Ω | x ∉ A}\n",
    "\n",
    "Según su número de elementos, los conjuntos se pueden clasificar como finitos o infinitos.\n",
    "La cardinalidad de un conjunto A es la cantidad de elementos diferentes que tiene y se representa con |A|\n",
    "Un conjunto es finito si se conoce su cardinalidad (podemos contar sus elementos) e infinito si se desconoce su cardinalidad (no podemos contar sus elementos)."
   ]
  }
 ],
 "metadata": {
  "kernelspec": {
   "display_name": "Python 3 (ipykernel)",
   "language": "python",
   "name": "python3"
  },
  "language_info": {
   "codemirror_mode": {
    "name": "ipython",
    "version": 3
   },
   "file_extension": ".py",
   "mimetype": "text/x-python",
   "name": "python",
   "nbconvert_exporter": "python",
   "pygments_lexer": "ipython3",
   "version": "3.9.16"
  }
 },
 "nbformat": 4,
 "nbformat_minor": 5
}
