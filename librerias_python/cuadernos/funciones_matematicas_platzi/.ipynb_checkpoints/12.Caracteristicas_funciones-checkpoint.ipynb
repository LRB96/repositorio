{
 "cells": [
  {
   "cell_type": "code",
   "execution_count": null,
   "id": "bca6d37c-daa4-455b-a0c8-3bb0e3bdaa64",
   "metadata": {},
   "outputs": [],
   "source": [
    "    Función par\n",
    "\n",
    "Toda funcion que tenga el mismo resultado con f(-x), y con f(x) es par.\n",
    "\n",
    "f(-x) = f(x)\n",
    "\n",
    "Ejemplo:\n",
    "    \n",
    "    f(x)=2*x**2 - 3\n",
    "    \n",
    "    f(-x)=2*(-x)**2 - 3\n",
    "    \n",
    "    f(-x)=2*x - 3 \n",
    "    \n",
    "    f(-x) = f(x)\n",
    "    \n",
    "    La funcion es par.\n",
    "    \n",
    "Toda funcion que no tenga el mismo resultado con f(-x), y con f(x) no es par.\n",
    "\n",
    "f(-x)=f(x)\n",
    "\n",
    "Ejemplo:\n",
    "    \n",
    "    f(x)=3*x**2 - 5*x\n",
    "    \n",
    "    f(-x)=3*(-x)**2 - 5(-x)\n",
    "    \n",
    "    f(-x)=3*x**2 + 5*x\n",
    "    \n",
    "    f(-x) /= f(x)\n",
    "    \n",
    "    La funcion no es par."
   ]
  },
  {
   "cell_type": "code",
   "execution_count": null,
   "id": "889939e1-8cde-468d-b009-b6ff455019da",
   "metadata": {},
   "outputs": [],
   "source": [
    "    Funcion impar\n",
    "\n",
    "Toda funcion que tenga el mismo resultado con f(-x), y con -f(x) es impar.\n",
    "\n",
    "f(-x) = -f(x)\n",
    "\n",
    "Ejemplo:\n",
    "    \n",
    "    f(x)=x**3-2*x\n",
    "    \n",
    "    -f(x)=-x**3+2*x\n",
    "    \n",
    "        Otra:\n",
    "            \n",
    "    f(x)=x**3-2*x\n",
    "    \n",
    "    f(-x)=(-x)**3-2*(-x)\n",
    "    \n",
    "    f(-x)=-x**3+2*x\n",
    "    \n",
    "    -f(x) = f(-x)\n",
    "    \n",
    "    La funcion es impar."
   ]
  },
  {
   "cell_type": "code",
   "execution_count": null,
   "id": "9f2e7ac4-c599-4b33-ba96-f7c30877fb40",
   "metadata": {},
   "outputs": [],
   "source": [
    "    Ejercicios:"
   ]
  },
  {
   "cell_type": "code",
   "execution_count": null,
   "id": "2e6c4a18-896c-45b9-8689-0b8825e6da0f",
   "metadata": {},
   "outputs": [],
   "source": [
    "f(x)=x**3+2\n",
    "f(-x)=(-x)**3+2\n",
    "f(-x)=x**3+2\n",
    "La funcion es par, pues f(x) es igual a f(-x)"
   ]
  },
  {
   "cell_type": "code",
   "execution_count": null,
   "id": "1acbf804-6f96-4fbe-8867-89732c7e5b23",
   "metadata": {},
   "outputs": [],
   "source": [
    "f(x)=x**2\n",
    "-f(x)=-(x**2)\n",
    "-f(x)=-x**2\n",
    "\n",
    "f(-x)=(-x)**2\n",
    "f(-x)=x**2\n",
    "La funcion no es impar, pues -f(x) no es igual a f(-x)"
   ]
  },
  {
   "cell_type": "code",
   "execution_count": null,
   "id": "e75b383d-d76c-402e-8434-ee0a0915254c",
   "metadata": {},
   "outputs": [],
   "source": [
    "f(x)=x**3+4*x\n",
    "-f(x)=-(x**3+4*x)\n",
    "-f(x)=-x**3-4*x\n",
    "\n",
    "f(-x)=(-x)**3+4(-x)\n",
    "f(-x)=-x**3-4*x\n",
    "La funcion es impar, pues -f(x) es igual a f(-x)."
   ]
  },
  {
   "cell_type": "code",
   "execution_count": null,
   "id": "721c3f80-6b15-4a45-9338-ca5921c2d7aa",
   "metadata": {},
   "outputs": [],
   "source": [
    "    Funcion acotada\n",
    "\n",
    "Una funcion puede estar acotada superiormente, o inferiormente.\n",
    "\n",
    "Superiormente si f(x) <= M para todo x\n",
    "Inferiormente si f(x) >= M para todo x\n",
    "\n",
    "    f(x)=1/(x**2+1)"
   ]
  },
  {
   "cell_type": "code",
   "execution_count": null,
   "id": "2e69f2f9-1427-42b6-9b22-d4cd661ae387",
   "metadata": {},
   "outputs": [],
   "source": [
    "    Funciones monotonas\n",
    "    \n",
    "Estas funciones son útiles de reconocer o analizar debido a que nos permiten saber si una función crece o decrece en alguno de sus intervalos. Que algo sea monótono significa que no tiene variaciones. \n",
    "Entonces las funciones monótonas son aquellas que dentro de un intervalo I, perteneciente a los números reales."
   ]
  },
  {
   "cell_type": "code",
   "execution_count": null,
   "id": "239de269-5443-4516-9c73-69fb0c303436",
   "metadata": {},
   "outputs": [],
   "source": [
    "    Funciones periodicas\n",
    "    \n",
    "Las funciones periódicas son aquellas que se repiten cada cierto periodo, este periodo se denomina con la letra T. La relación que debe cumplir la función para ser periódica es la siguiente."
   ]
  },
  {
   "cell_type": "code",
   "execution_count": null,
   "id": "f610f6fe-e2ce-4b90-90b6-3dfa6197c40d",
   "metadata": {},
   "outputs": [],
   "source": [
    "    Funciones concavas y convexas\n",
    "\n",
    "    \n",
    "La forma de demostrar la concavidad de una función se puede hacer a través del análisis de derivadas consecutivas, pero aún no llegamos a eso, así que no te preocupes. A continuación, te dejo una forma súper intuitiva de ver si una función es cóncava o convexa.\n",
    "\n",
    "Se dice que una función dentro de un intervalo es convexa si la función “abre hacia arriba”.\n",
    "\n",
    "Ahora, ¿qué sería una función cóncava? Pues así es, lo contrario de una convexa. Se dice que una función dentro de un intervalo es concava si la función “abre hacia abajo”."
   ]
  }
 ],
 "metadata": {
  "kernelspec": {
   "display_name": "Python 3 (ipykernel)",
   "language": "python",
   "name": "python3"
  },
  "language_info": {
   "codemirror_mode": {
    "name": "ipython",
    "version": 3
   },
   "file_extension": ".py",
   "mimetype": "text/x-python",
   "name": "python",
   "nbconvert_exporter": "python",
   "pygments_lexer": "ipython3",
   "version": "3.9.16"
  }
 },
 "nbformat": 4,
 "nbformat_minor": 5
}
