{
 "cells": [
  {
   "cell_type": "code",
   "execution_count": 1,
   "id": "6f3e196e-38a5-4615-84ad-af7a9849045a",
   "metadata": {},
   "outputs": [],
   "source": [
    "import matplotlib.pyplot as plt\n",
    "import numpy as np"
   ]
  },
  {
   "cell_type": "code",
   "execution_count": null,
   "id": "4449cafe-4938-4bfb-a934-4378982f9f42",
   "metadata": {},
   "outputs": [],
   "source": [
    "#La regresión lineal permite explicar la relación de una variable dependiente (y), con respecto a otras variables independiente (x), en el caso del ejemplo: gasto en publicidad vs ventas. Permite explicar como se afecta la variable dependiente por los cambios que tenga la variable independiente. Para su representación se utilizan gráficos de dispersión e histogramas.\n"
   ]
  },
  {
   "cell_type": "code",
   "execution_count": null,
   "id": "569f8dec-7417-49d4-9e74-df182bb94c8c",
   "metadata": {},
   "outputs": [],
   "source": [
    "#Debemos tener la habilidad de modelar funciones, es decir, tener un problema y entender que función debemos usar para generalizar un proceso\n",
    "\n",
    "Los científicos de datos somos bastante inteligentes y brillantes\n",
    "\n",
    "Para medir que tan eficiente es nuestro modelo predictivo, utilizamos otro tipo de funciones llamadas funciones de error"
   ]
  },
  {
   "cell_type": "code",
   "execution_count": null,
   "id": "c476f180-832a-4510-8aa0-1ca383f48008",
   "metadata": {},
   "outputs": [],
   "source": []
  },
  {
   "cell_type": "code",
   "execution_count": null,
   "id": "47aa4361-1672-449f-a16b-5556e23e24a8",
   "metadata": {},
   "outputs": [],
   "source": []
  }
 ],
 "metadata": {
  "kernelspec": {
   "display_name": "Python 3 (ipykernel)",
   "language": "python",
   "name": "python3"
  },
  "language_info": {
   "codemirror_mode": {
    "name": "ipython",
    "version": 3
   },
   "file_extension": ".py",
   "mimetype": "text/x-python",
   "name": "python",
   "nbconvert_exporter": "python",
   "pygments_lexer": "ipython3",
   "version": "3.9.16"
  }
 },
 "nbformat": 4,
 "nbformat_minor": 5
}
