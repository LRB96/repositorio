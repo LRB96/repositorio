{
 "cells": [
  {
   "cell_type": "code",
   "execution_count": null,
   "id": "c801266c",
   "metadata": {},
   "outputs": [],
   "source": [
    "        Variables cualitativas o categoricas\n",
    "\n",
    "    \n",
    "    Tipo nominales:\n",
    "    \n",
    "Son a las que se les asigna una cualidad. Por ejemplo, los colores  de un LED.\n",
    "\n",
    "    Tipos ordinales:\n",
    "    \n",
    "Representa un orden.\n",
    "\n",
    "    Tipo binario:\n",
    "\n",
    "Solo toman 2 valores. Usualmente usadas para representar estados."
   ]
  },
  {
   "cell_type": "code",
   "execution_count": null,
   "id": "c4cdeb99",
   "metadata": {},
   "outputs": [],
   "source": [
    "        Variables cuantitativas\n",
    "    \n",
    "    Tipo discretas:\n",
    "\n",
    "Son finitas y toman ciertos valores, como los numeros en una tabla.\n",
    "Pueden verse como variables separadas por un \"paso\"\n",
    "\n",
    "    Tipo continua:\n",
    "    \n",
    "Sus valores pueden verse como infinitos al tomar cualquier valor dentro los numeros reales en un rango establecido."
   ]
  }
 ],
 "metadata": {
  "kernelspec": {
   "display_name": "Python 3 (ipykernel)",
   "language": "python",
   "name": "python3"
  },
  "language_info": {
   "codemirror_mode": {
    "name": "ipython",
    "version": 3
   },
   "file_extension": ".py",
   "mimetype": "text/x-python",
   "name": "python",
   "nbconvert_exporter": "python",
   "pygments_lexer": "ipython3",
   "version": "3.9.13"
  }
 },
 "nbformat": 4,
 "nbformat_minor": 5
}
