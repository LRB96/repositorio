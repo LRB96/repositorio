{
 "cells": [
  {
   "cell_type": "code",
   "execution_count": null,
   "id": "1a0e70cc",
   "metadata": {},
   "outputs": [],
   "source": [
    "Una funcion es una regla donde a cada elemento de un conjunto A se le asigna un elemento de un conjunto B."
   ]
  },
  {
   "cell_type": "code",
   "execution_count": null,
   "id": "0620bc9b",
   "metadata": {},
   "outputs": [],
   "source": [
    "Un funcion se puee representar:\n",
    "    \n",
    "    1. Verbalmente.\n",
    "    2.Visualmente.\n",
    "    3.Numericamente.\n",
    "    4.Algebraicamente."
   ]
  },
  {
   "cell_type": "code",
   "execution_count": null,
   "id": "5d7adf03",
   "metadata": {},
   "outputs": [],
   "source": [
    "Concepto fundamental de las funciones:\n",
    "\n",
    "Obtener un valor que va a variar de otros factores.\n",
    "\n",
    "Ejemplo:\n",
    "\n",
    "En Uber, el costo del trayecto depende de la distancia recorrida.\n",
    "En este caso lo que regresa la función es el costo del trayecto.\n",
    "\n",
    "Formas de representar una función:\n",
    "\n",
    "    Verbalmente\n",
    "Ejemplo: “El precio aumento en 2 dólares por cada kilómetro recorrido”\n",
    "    \n",
    "    Numéricamente\n",
    "Puede ser con una tabla de valores donde tenemos un valor x y un valor f(x) que le corresponde\n",
    "\n",
    "    Visualmente\n",
    "La gráfica en un plano cartesiano, una forma muy común de comprobar si es una función de esta manera, es trazar una línea sobre la función y si pasa a tocar más de 1 punto, entonces no es una función.\n",
    "\n",
    "    Algebraicamente\n",
    "Ejemplo: función de la parábola f(x)=x^2"
   ]
  }
 ],
 "metadata": {
  "kernelspec": {
   "display_name": "Python 3 (ipykernel)",
   "language": "python",
   "name": "python3"
  },
  "language_info": {
   "codemirror_mode": {
    "name": "ipython",
    "version": 3
   },
   "file_extension": ".py",
   "mimetype": "text/x-python",
   "name": "python",
   "nbconvert_exporter": "python",
   "pygments_lexer": "ipython3",
   "version": "3.9.16"
  }
 },
 "nbformat": 4,
 "nbformat_minor": 5
}
