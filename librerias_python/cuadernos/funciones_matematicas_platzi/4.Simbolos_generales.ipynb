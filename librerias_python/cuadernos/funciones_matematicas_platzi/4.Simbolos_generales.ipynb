{
 "cells": [
  {
   "cell_type": "code",
   "execution_count": null,
   "id": "9d639575",
   "metadata": {},
   "outputs": [],
   "source": [
    "    Simbolos de igualdad o ralacion\n",
    "  \n",
    "= igual, representa que dos objetos son iguales\n",
    "\n",
    "'> mayor qué, indica que un número es mayor que otro\n",
    "\n",
    "'< menor qué, indica que un número es menor que otro\n",
    "\n",
    "≥ mayor o igual qué, se usa para establecer intervalos\n",
    "\n",
    "≤ menor o igual qué, se usa para establecer intervalos\n",
    "\n",
    "≠ diferente qué, indica que no son iguales.\n",
    "\n",
    "≈ aproximación, indica que un número es aproximadamente.\n",
    "\n",
    "->> mucho mayor, indica que un número es mucho mucho mayor a otro\n",
    "\n",
    "<< mucho menor, indica que un número es mucho mucho menor a otro\n",
    "\n",
    "∞ Infinito, indica un número muy grande\n",
    "\n",
    "∞+ infinito positivo.\n",
    "\n",
    "∞- infinito negativo.\n",
    "\n",
    "=\n",
    "<\n",
    ">\n",
    "<=\n",
    ">=\n",
    "/=\n",
    "~~\n",
    "<<\n",
    ">>"
   ]
  },
  {
   "cell_type": "code",
   "execution_count": null,
   "id": "f61e6d97",
   "metadata": {},
   "outputs": [],
   "source": [
    "        Simbolos de operaciones acumulativas\n",
    "\n",
    "    Suma acumulativa\n",
    "\n",
    "∑ Sigma, indica sumatoria.\n",
    "    \n",
    "    Producto acumulativo\n",
    "    \n",
    "∏ Producto, tiene un límite inferior y un superior al igual que la sumatoria."
   ]
  }
 ],
 "metadata": {
  "kernelspec": {
   "display_name": "Python 3 (ipykernel)",
   "language": "python",
   "name": "python3"
  },
  "language_info": {
   "codemirror_mode": {
    "name": "ipython",
    "version": 3
   },
   "file_extension": ".py",
   "mimetype": "text/x-python",
   "name": "python",
   "nbconvert_exporter": "python",
   "pygments_lexer": "ipython3",
   "version": "3.9.16"
  }
 },
 "nbformat": 4,
 "nbformat_minor": 5
}
