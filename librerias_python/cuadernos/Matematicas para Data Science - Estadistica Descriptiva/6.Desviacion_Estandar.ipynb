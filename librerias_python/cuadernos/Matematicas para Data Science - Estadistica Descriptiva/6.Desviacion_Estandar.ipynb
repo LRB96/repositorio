{
 "cells": [
  {
   "cell_type": "markdown",
   "id": "c715bc3a-4c07-437c-b899-58d1b85e59f1",
   "metadata": {},
   "source": [
    "    Desviación estándar\n",
    "\n",
    "La desviación estándar es la medida de dispersión más común, que indica qué tan dispersos están los datos con respecto a la media. Mientras mayor sea la desviación estándar, mayor será la dispersión de los datos.\n",
    "\n",
    "El símbolo σ (sigma) se utiliza frecuentemente para representar la desviación estándar de una población, mientras que s se utiliza para representar la desviación estándar de una muestra.\n",
    "\n",
    "La desviación estándar se puede utilizar para establecer un valor de referencia para estimar la variación general de un proceso.\n",
    "\n",
    "    Solo para aclarar, ya que el termino de varianza se abordo muy rápidamente:\n",
    "\n",
    "Varianza: es una medida de dispersión que representa la variabilidad de una serie de datos respecto a su media. Formalmente se calcula como la suma de los residuos al cuadrado divididos entre el total de observaciones. Su fórmula es la siguiente:\n",
    "    \n",
    "X → Variable sobre la que se pretenden calcular la varianza\n",
    "\n",
    "xi → Observación número i de la variable X. i puede tomará valores entre 1 y n.\n",
    "\n",
    "N → Número de observaciones.\n",
    "\n",
    "x̄ → Es la media de la variable X.\n",
    "\n",
    "La diferencia entre la desviación estándar o típica y la varianza, es que la la desviación típica es la raíz cuadrada de la varianza\n",
    ".\n",
    "Y no nos podemos olvidar de otra medida de dispersión muy importante, que es el coeficiente de variación:\n",
    "\n",
    "Su cálculo se obtiene de dividir la desviación típica entre el valor absoluto de la media del conjunto y por lo general se expresa en porcentaje para su mejor comprensión.\n",
    "\n",
    "X → Variable sobre la que se pretenden calcular la varianza\n",
    "\n",
    "σx → Desviación típica de la variable X.\n",
    "\n",
    "| x̄ | → Es la media de la variable X en valor absoluto con x̄ ≠ 0\n",
    "\n",
    "El coeficiente de variación de utiliza para comparar la dispersión (variación) de conjuntos de datos de medidas diferentes o con medias aritméticas diferentes."
   ]
  },
  {
   "cell_type": "code",
   "execution_count": null,
   "id": "f8e8bcf9-e1e8-49da-9076-35bd6037d028",
   "metadata": {},
   "outputs": [],
   "source": []
  }
 ],
 "metadata": {
  "kernelspec": {
   "display_name": "Python 3 (ipykernel)",
   "language": "python",
   "name": "python3"
  },
  "language_info": {
   "codemirror_mode": {
    "name": "ipython",
    "version": 3
   },
   "file_extension": ".py",
   "mimetype": "text/x-python",
   "name": "python",
   "nbconvert_exporter": "python",
   "pygments_lexer": "ipython3",
   "version": "3.9.16"
  }
 },
 "nbformat": 4,
 "nbformat_minor": 5
}
