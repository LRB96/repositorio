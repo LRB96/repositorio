{
 "cells": [
  {
   "cell_type": "markdown",
   "id": "1142b5a3-4b9d-45a7-8d75-855c9351b7b9",
   "metadata": {},
   "source": [
    "                                                                Pasos y roles en el flujo de trabajo de Data Science"
   ]
  },
  {
   "cell_type": "markdown",
   "id": "00e31a49-416e-40cc-9c9d-e9509b6e40ae",
   "metadata": {},
   "source": [
    "Todos las partes del flujo requiere del conocimiento en ciertas ramas de la estadística. La estadística descriptiva se va a emplear más en los dos primeros bloques de trabajo.\n",
    "\n",
    "Ingesta de datos y Validación: Se encarga de todo el procesamiento de ETL (Extract Transform Load) obtener los datos, limpiarlos y estructurarlos, crear pipelines de análisis automatizado, es decir que transformaciones vamos a realizar a los datos para que estén listos para el caso especifico de estudio que vamos a realizar.\n",
    "\n",
    "Preparación y entrenamiento del modelo: En este bloque se va a realizar un análisis exploratorio de los datos con estadística descriptiva, entender correlaciones y realizar posibles reducciones de datos.\n",
    "\n",
    "Evaluar el modelo, Producción e Interacción: esta parte del flujo se basa mas en la estadística inferencial."
   ]
  },
  {
   "cell_type": "markdown",
   "id": "49356a6d-2455-41fb-b573-e3788e469577",
   "metadata": {},
   "source": [
    "            Flujo de trabajo\n",
    "\n",
    "1.Ingreso de datos.\n",
    "\n",
    "2.Visualizacion de datos.\n",
    "\n",
    "3.Preparacion de datos.\n",
    "\n",
    "4.Entrenemiento de modelo.\n",
    "\n",
    "5.Evaluacion de modelo.\n",
    "\n",
    "6.Validacion de modelo.\n",
    "\n",
    "7.Uso del modelo.\n",
    "\n",
    "8.Interacion con usuario."
   ]
  },
  {
   "cell_type": "markdown",
   "id": "a33d7c41-4f28-4a6a-a4a4-9b470850b7b8",
   "metadata": {},
   "source": [
    "Tipos de datos, pipeline de procesamiento:\n",
    "    \n",
    "    1.Ingesta de datos.\n",
    "    2.Validacion.\n",
    "    \n",
    "Analisis exploratorio, estadistica descriptiva, correlaciones, reducciones de datos:\n",
    "    \n",
    "    1.Preparacion.\n",
    "    2.Entrenamiento de modelo.\n",
    "    \n",
    "Probabilidad e inferencia:\n",
    "    \n",
    "    1.Evaluacion modelo.\n",
    "\n",
    "Test de hipotesis:\n",
    "    \n",
    "    1.Modelo de produccion.\n",
    "    2.Interacion usuario final."
   ]
  },
  {
   "cell_type": "code",
   "execution_count": null,
   "id": "09e76dc7-9507-4783-9cfc-018a0cbb517c",
   "metadata": {},
   "outputs": [],
   "source": []
  },
  {
   "cell_type": "code",
   "execution_count": null,
   "id": "85a8ed97-016d-44e0-aea0-f330b2dda70a",
   "metadata": {},
   "outputs": [],
   "source": []
  }
 ],
 "metadata": {
  "kernelspec": {
   "display_name": "Python 3 (ipykernel)",
   "language": "python",
   "name": "python3"
  },
  "language_info": {
   "codemirror_mode": {
    "name": "ipython",
    "version": 3
   },
   "file_extension": ".py",
   "mimetype": "text/x-python",
   "name": "python",
   "nbconvert_exporter": "python",
   "pygments_lexer": "ipython3",
   "version": "3.9.16"
  }
 },
 "nbformat": 4,
 "nbformat_minor": 5
}
