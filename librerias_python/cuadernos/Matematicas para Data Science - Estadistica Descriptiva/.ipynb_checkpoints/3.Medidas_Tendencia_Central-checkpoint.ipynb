{
 "cells": [
  {
   "cell_type": "code",
   "execution_count": 1,
   "id": "93c55a87-2f23-4a03-a56d-f8eb8ee54f91",
   "metadata": {},
   "outputs": [],
   "source": [
    "import matplotlib.pyplot as plt\n",
    "import numpy as pd\n",
    "import pandas as pd\n",
    "import seaborn as sns"
   ]
  },
  {
   "cell_type": "markdown",
   "id": "f5b8ccf5-dc1f-48b0-82e1-9850aa7ac56c",
   "metadata": {},
   "source": [
    "Medidas de tendencia central, y medidas de dispersion.\n",
    "\n",
    "Media ponderada: es una medida de tendencia central, que es apropiada cuando en un conjunto de datos cada uno de ellos tiene una importancia relativa (o peso) respecto de los demás datos. Se obtiene multiplicando cada uno de los datos por su ponderación (peso) para luego sumarlos, obteniendo así una suma ponderada; después se divide esta entre la suma de los pesos, dando como resultado la media ponderada.\n",
    "\n",
    "Media armónica: La media armónica es igual al número de elementos de un grupo de cifras entre la suma de los inversos de cada una de estas cifras. En otras palabras, la media armónica es una medida estadística recíproca a la media aritmética, que es la suma de un conjunto de valores entre el número de observaciones.\n",
    "\n",
    "Media geométrica: es una cantidad arbitraria de números (por decir n números) es la raíz n-ésima del producto de todos los números; es recomendada para datos de progresión geométrica, para promediar razones, interés compuesto y números índice."
   ]
  },
  {
   "cell_type": "markdown",
   "id": "84d905c8-0bcd-4456-951d-a1aaa1f1bc69",
   "metadata": {},
   "source": [
    "Media: Es el promedio de todos los datos, puede ser susceptible a valores atípicos.\n",
    "\n",
    "Mediana: es el dato central es decir tiene la misa cantidad de datos a su izquierda y derecha, no es lo mismo que la media.\n",
    "\n",
    "Moda: es el dato que mas se repite, la moda no aplica para datos numéricos continuos."
   ]
  },
  {
   "cell_type": "code",
   "execution_count": null,
   "id": "719addb4-3361-4db1-b35c-e401080c61e4",
   "metadata": {},
   "outputs": [],
   "source": []
  },
  {
   "cell_type": "code",
   "execution_count": null,
   "id": "3f43137b-43e9-43f9-989e-a598a0bed849",
   "metadata": {},
   "outputs": [],
   "source": []
  },
  {
   "cell_type": "code",
   "execution_count": null,
   "id": "7c3ccace-3a50-4497-96f1-433f00e391d4",
   "metadata": {},
   "outputs": [],
   "source": []
  },
  {
   "cell_type": "code",
   "execution_count": null,
   "id": "86c80836-85ed-4f48-9577-8704267cc05a",
   "metadata": {},
   "outputs": [],
   "source": []
  }
 ],
 "metadata": {
  "kernelspec": {
   "display_name": "Python 3 (ipykernel)",
   "language": "python",
   "name": "python3"
  },
  "language_info": {
   "codemirror_mode": {
    "name": "ipython",
    "version": 3
   },
   "file_extension": ".py",
   "mimetype": "text/x-python",
   "name": "python",
   "nbconvert_exporter": "python",
   "pygments_lexer": "ipython3",
   "version": "3.9.16"
  }
 },
 "nbformat": 4,
 "nbformat_minor": 5
}
