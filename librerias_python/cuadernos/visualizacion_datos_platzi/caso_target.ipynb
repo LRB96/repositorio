{
 "cells": [
  {
   "cell_type": "markdown",
   "id": "bd9d5112",
   "metadata": {},
   "source": [
    "En el caso target, fue un algoritmo de machine learning que (dado el comportamiento de la chica) le recomendó productos para bebe. Desde el punto de vista de UX, estas recomendaciones son muy valiosas para añadir valor constante al usuario. En el caso target, el mayor problema fue que la chica era menor de edad.\n",
    "\n",
    "Pienso que el problema no es el uso de la big data sino la falta de contexto. Es decir, no solo sirve hacer predicciones con datos masivos sin tomar en cuenta el impacto que pueda tener. No tiene nada de malo (pienso) mandar estas recomendaciones a una mujer de +25 años, que a una adolescente.\n",
    "\n",
    "Desde el punto de vista de programar una red neuronal para predecir estos casos, hubiera agreagado pesos a este tipo de factores o si la persona tiene tendencias de comportamiento que indican que es una persona que vive independientemente (e.g. mayormente, una adolescente no es la encargada de hacer el súper en su casa)."
   ]
  },
  {
   "cell_type": "markdown",
   "id": "f1db4be5",
   "metadata": {},
   "source": [
    "El caso Target es un caso increíble del alcance que tiene el análisis de datos, a través del seguimiento de una actividad rutinaria como hacer compras en el super. En el caso planteado, tenemos que Target asigna un ID único a cada cliente, asociado a sus tarjetas de crédito, para analizar todos los datos de compra a lo largo del tiempo, y luego, generar cupones de descuento sugiriendo productos que al cliente le parezcan coincidentemente muy familiar. Así, teniendo rastreados estos hábitos de compra de sus clientes, se dieron cuenta que ciertos comportamientos de mujeres en su primer trimestre de embarazo era repetitivo, construyendo un algoritmo que fuera capaz de predecir el comportamiento de compra de mujeres en estado de embarazo.\n",
    "\n",
    "Teniendo en cuenta lo anterior, considero que la situación se salió de control por la falta de contexto de todo el conjunto de datos que se obtiene de los hábitos de compra de las personas; también, las empresas deben establecer un límite de qué tipo de recomendaciones realizar, por ejemplo, no tiene el mismo impacto que envíen cupones para la compra de los productos de belleza favoritos de una persona, a que se envíe la promoción de compra sobre una enfermedad/condición sensible que es un asunto muy personal de las personas, en este caso el embarazo de una adolescente."
   ]
  }
 ],
 "metadata": {
  "kernelspec": {
   "display_name": "Python 3 (ipykernel)",
   "language": "python",
   "name": "python3"
  },
  "language_info": {
   "codemirror_mode": {
    "name": "ipython",
    "version": 3
   },
   "file_extension": ".py",
   "mimetype": "text/x-python",
   "name": "python",
   "nbconvert_exporter": "python",
   "pygments_lexer": "ipython3",
   "version": "3.9.13"
  }
 },
 "nbformat": 4,
 "nbformat_minor": 5
}
