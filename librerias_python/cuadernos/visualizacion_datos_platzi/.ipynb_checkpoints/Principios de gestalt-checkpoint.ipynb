{
 "cells": [
  {
   "cell_type": "markdown",
   "id": "fd1bdc83",
   "metadata": {},
   "source": [
    "Principios de gestalt\n",
    "\n",
    "Semejanza: Para percibir objetos parecidos se deben colocar con una misma forma,color,tamaño,textura,movimiento .\n",
    "\n",
    "Cierre: Si colocamos elementos desconectados nuestro cerebro en automático los asocia con formas que ya conocemos.\n",
    "\n",
    "Continuidad: Cuando tenemos elementos orientados a una misma dirección nuestro cerebro interpreta la\n",
    "información como conectada.en lugar de desconectada.\n",
    "\n",
    "Proximidad: Si vemos objetos que están cercanos los percibimos como dentro de un grupo.\n",
    "\n",
    "Figura fondo: Nos muestra que nuestro cerebro encuentran un enfoco visual separando la figura del fondo.\n",
    "\n",
    "Simetría: Las figuras simétricas o geométricas simples y regulares se perciben como un conjunto."
   ]
  },
  {
   "cell_type": "code",
   "execution_count": null,
   "id": "035f5064",
   "metadata": {},
   "outputs": [],
   "source": []
  }
 ],
 "metadata": {
  "kernelspec": {
   "display_name": "Python 3 (ipykernel)",
   "language": "python",
   "name": "python3"
  },
  "language_info": {
   "codemirror_mode": {
    "name": "ipython",
    "version": 3
   },
   "file_extension": ".py",
   "mimetype": "text/x-python",
   "name": "python",
   "nbconvert_exporter": "python",
   "pygments_lexer": "ipython3",
   "version": "3.9.13"
  }
 },
 "nbformat": 4,
 "nbformat_minor": 5
}
