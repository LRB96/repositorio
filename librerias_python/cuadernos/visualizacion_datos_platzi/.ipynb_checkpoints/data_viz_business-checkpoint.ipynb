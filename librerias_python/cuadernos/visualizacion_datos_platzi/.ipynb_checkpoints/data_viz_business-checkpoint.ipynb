{
 "cells": [
  {
   "cell_type": "markdown",
   "id": "e138e6de",
   "metadata": {},
   "source": [
    "La visualización de datos efectiva nos ayuda a:\n",
    "\n",
    "nos ayuda a que direccion y gerencia entiendan claramente el mensaje que buscamos transmitirles y la conclusion a la que llegamos tras analizar los datos\n",
    "nos permite que nuestro mensaje sea claro y facil de interpretar por lo cual miembros de nuestro equipo pueden facilmente estar al dia con la información que estamos trabajando\n",
    "Nos permite comunicar de mejor manera lo que pensamos, inclusive nos permite poner en palabras conclusiones a las que no podiamos llegar sin verlas plamadas en una forma mas comprensible como una grafica"
   ]
  },
  {
   "cell_type": "markdown",
   "id": "7fe3e361",
   "metadata": {},
   "source": [
    "Creo hay dos complejidades en las visualizaciones aplicadas al negocio.\n",
    "\n",
    "Identificar cual es la información critica para el negocio y generar una visualización que genere el impacto deseado utilizando la menor cantidad de objetos posibles para no desviar la atención de la audiencia.\n",
    "\n",
    "Lograr vender la innovación de las visualizaciones a un equipo de lideres que generalmente les gusta solo ver tablas y gráficas de Pie (a lo mucho algo en barras)\n",
    "\n",
    "Pero con una buena narrativa y presentación de las visualizaciones, hay una probabilidad alta de triunfo."
   ]
  },
  {
   "cell_type": "markdown",
   "id": "aa09855f",
   "metadata": {},
   "source": [
    "La visualización de datos tiene una gran importancia en los negocios ya que de las visualizaciones de datos depende la toma de decisiones y de estas decisiones de alguna manera depende el futuro de nuestra empresa porque por medio de la visualización podemos encontrar datos de los cuales no sabíamos de su existencia , podemos incluso ver que es momento de innovar , ver en que se esta fallando, que genera mayor o menores ganancias con las cuales podemos cambiar nuestras estrategias en nuestro negocio pero lo más importante es que por medio del DataViz lo puedes dar a conocer de forma rápida, sencilla y clara"
   ]
  },
  {
   "cell_type": "markdown",
   "id": "d769a464",
   "metadata": {},
   "source": [
    "Les cuento un poco, yo trabajé por 12 años en un departamento de Business Intelligence en una aerolínea muy grande en Latinoamérica, a grandes rasgos integrábamos data de:\n",
    "\n",
    "Sistemas transaccionales: venta, contabilidad, operaciones aéreas, etc.\n",
    "Datos de la competencia: vuelos, horarios, capacidad ofrecida en asientos, carga, etc.\n",
    "Datos de planeación: presupuestos, nuevas rutas, aviones, etc.\n",
    "Estos datos se estructuraban en cubos dentro de un Data Warehouse Corporativo para habilitar a las diferentes áreas de la empresa a que manipularan la data en herramientas OLAP y lograran tener conocimiento detallado del comportamiento de diferentes temas, por ejemplo: anticipación de compra, curvas de compra, niveles de ocupación de los vuelos, On Time Performace, etc.\n",
    "\n",
    "Otro “servicio” que dábamos era apoyar a diferentes áreas con la información que necesitaban para tomar decisiones pero el mayor valor que podíamos dar a la organización era realizar análisis transversales, es decir, desde una perspectiva que pocos lograban porque dentro de BI se tenía no solo el conocimiento técnico de manejar volúmenes enormes de información y cruzar diferentes cubos de información sino también el conocimiento del negocio.\n",
    "\n",
    "En pocas palabras BI provee muchísimo valor al negocio, es muy fácil generar mucho dinero en ahorros o en incremento de ingresos siempre y cuando se logre el conocimiento técnico y el de negocio!\n",
    "\n",
    "Les dejo un artículo donde se habla de las operaciones básicas que se pueden realizar sobre un Data Warehouse al analizar la data, esto es imposible que un usuario pueda realizarlo en una base de datos normalizada"
   ]
  },
  {
   "cell_type": "code",
   "execution_count": null,
   "id": "5cee2479",
   "metadata": {},
   "outputs": [],
   "source": []
  }
 ],
 "metadata": {
  "kernelspec": {
   "display_name": "Python 3 (ipykernel)",
   "language": "python",
   "name": "python3"
  },
  "language_info": {
   "codemirror_mode": {
    "name": "ipython",
    "version": 3
   },
   "file_extension": ".py",
   "mimetype": "text/x-python",
   "name": "python",
   "nbconvert_exporter": "python",
   "pygments_lexer": "ipython3",
   "version": "3.9.13"
  }
 },
 "nbformat": 4,
 "nbformat_minor": 5
}
