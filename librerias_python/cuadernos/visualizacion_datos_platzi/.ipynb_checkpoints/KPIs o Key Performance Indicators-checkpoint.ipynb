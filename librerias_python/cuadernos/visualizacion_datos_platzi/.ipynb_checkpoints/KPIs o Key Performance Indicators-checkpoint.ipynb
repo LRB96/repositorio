{
 "cells": [
  {
   "cell_type": "markdown",
   "id": "3cf7bb39",
   "metadata": {},
   "source": [
    "En inglés las siglas si corresponden con SMART, estas serían las palabras:\n",
    "Specific\n",
    "Measurable\n",
    "Achievable\n",
    "Relevant\n",
    "Time-bound"
   ]
  },
  {
   "cell_type": "markdown",
   "id": "19a6d46c",
   "metadata": {},
   "source": [
    "KPI para un e-commerce\n",
    "\n",
    "Tráfico\n",
    "\n",
    "Visitas a las fichas de productos\n",
    "\n",
    "Media de páginas vistas y tiempo en el sitio\n",
    "\n",
    "Páginas de salida\n",
    "\n",
    "Tasa de abandono de carritos\n",
    "\n",
    "Tasa de devolución\n",
    "\n",
    "Tasa de conversión\n",
    "\n",
    "Fuente de referencias\n",
    "\n",
    "Tasa orgánica de recompra (TOR)"
   ]
  },
  {
   "cell_type": "markdown",
   "id": "d0914c4e",
   "metadata": {},
   "source": [
    "KPI\n",
    "Recuerda S.M.A.R.T\n",
    "\n",
    "Specific\n",
    "Measurable\n",
    "Achievable\n",
    "Relevant\n",
    "Time bound\n",
    "Preguntas para hacer:\n",
    "\n",
    "¿Cuál es el resultado esperado?\n",
    "¿Cómo ayuda el resultado a conseguir la visión de éxito?\n",
    "¿Cómo sabremos que se llegó al resultado esperado?\n",
    "Anatomía de un KPI\n",
    "\n",
    "Objetivo cuantificable\n",
    "Timeframe para cumplirlo\n",
    "Data source desde donde tomar la información\n",
    "Frecuencia de revisión o reporte."
   ]
  },
  {
   "cell_type": "markdown",
   "id": "6220be51",
   "metadata": {},
   "source": [
    "KPI (Key Performance Indicator)\n",
    "KPIs son indicadores que nos permiten realizar un control de los resultados en cierta actividad acorde a valores deseables establecidos, ayudando a saber qué se puede mejorar y qué no. A la hora de elegir y elaborar un KPI es recomendable tener presentes las siglas S.M.A.R.T. (específicos, medibles, alcanzables, relevantes, escalables en el tiempo), las condiciones que debería reunir este medidor.\n",
    "\n",
    "KPIs y Métricas no son precisamente lo mismo\n",
    "Las métricas son medidas, números que obtenemos de ciertas actividades indistintamente de su relevancia para el análisis en cuestión, mientras que un KPI es una medida que nos indica si se ha cumplido o no un objetivo. Dicho de otro modo: Todo KPI es una métrica (esencial) mientras que no todas las métricas son KPI (no todas tienen la misma importancia)."
   ]
  },
  {
   "cell_type": "code",
   "execution_count": null,
   "id": "00294492",
   "metadata": {},
   "outputs": [],
   "source": []
  }
 ],
 "metadata": {
  "kernelspec": {
   "display_name": "Python 3 (ipykernel)",
   "language": "python",
   "name": "python3"
  },
  "language_info": {
   "codemirror_mode": {
    "name": "ipython",
    "version": 3
   },
   "file_extension": ".py",
   "mimetype": "text/x-python",
   "name": "python",
   "nbconvert_exporter": "python",
   "pygments_lexer": "ipython3",
   "version": "3.9.13"
  }
 },
 "nbformat": 4,
 "nbformat_minor": 5
}
