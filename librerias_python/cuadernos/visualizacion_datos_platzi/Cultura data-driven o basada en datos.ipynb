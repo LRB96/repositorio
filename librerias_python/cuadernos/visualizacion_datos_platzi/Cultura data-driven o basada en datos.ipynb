{
 "cells": [
  {
   "cell_type": "markdown",
   "id": "5556aedc",
   "metadata": {},
   "source": [
    "¿Cómo mejorar constantemente en la Visualización de Datos?\n",
    "\n",
    "Haz proyectos: Busca DB públicas para esto. Realiza reportes: Aquí condensas todo el proceso y muestas tus descubrimientos. Muestra tus reportes: Es la única manera de obtener feedback real del trabajo realizado. Crea historias: Recuerda que los datos sin historia son solo números. Nunca pares de aprender: Si estás leyendo esto vas por buen camino."
   ]
  },
  {
   "cell_type": "markdown",
   "id": "3d3ba7a2",
   "metadata": {},
   "source": [
    "Caso Orbitz\n",
    "Es una empresa que se dedica a vuelos, alojamientos, etc. para los viajantes.\n",
    "\n",
    "Descubrieron que los prospectos que visualizaban la página desde un ordenador Mac vs los otros ordenadores pagaban más, más fácil y más rápido.\n",
    "\n",
    "De ahí que deciden (ya que es ilegal tener un precio distinto) mostrar las habitaciones más caras o sólo las versiones premium, etc.\n",
    "\n",
    "Consiguen así una mejora considerable en sus beneficios."
   ]
  },
  {
   "cell_type": "markdown",
   "id": "92be787c",
   "metadata": {},
   "source": [
    "Aplicado lo estudiado, veo interesante un proyecto en el cual tomar un Data Set que hable sobre la población de un país, donde se pueda ver (en aspectos generales) datos demograficos, como posicion economica, trabajo, ingresos mensuales y anuales y otros datos como gustos, estudios, intereses.\n",
    "\n",
    "De tal forma de que se pueda hacer una ligera historia para poder crear una empresa basada en la tendencia regional."
   ]
  },
  {
   "cell_type": "code",
   "execution_count": null,
   "id": "d4062de8",
   "metadata": {},
   "outputs": [],
   "source": []
  },
  {
   "cell_type": "code",
   "execution_count": null,
   "id": "cc1745a5",
   "metadata": {},
   "outputs": [],
   "source": []
  }
 ],
 "metadata": {
  "kernelspec": {
   "display_name": "Python 3 (ipykernel)",
   "language": "python",
   "name": "python3"
  },
  "language_info": {
   "codemirror_mode": {
    "name": "ipython",
    "version": 3
   },
   "file_extension": ".py",
   "mimetype": "text/x-python",
   "name": "python",
   "nbconvert_exporter": "python",
   "pygments_lexer": "ipython3",
   "version": "3.9.13"
  }
 },
 "nbformat": 4,
 "nbformat_minor": 5
}
