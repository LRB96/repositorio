{
 "cells": [
  {
   "cell_type": "markdown",
   "id": "95974801",
   "metadata": {},
   "source": [
    "Las gráficas tienen como objetivo transmitir a la audiencia de manera clara el mensaje, por eso debemos tener en cuenta qué quiero comunicar y qué mensaje quiero dar, ya que siempre hay una gráfica específica a nuestra necesidad, que se adapta mejor a mi mensaje. Así mismo, tener en cuenta quién es mi audiencia para saber qué tipo de lenguaje utilizar y disminuir la carga cognitiva, entregando el mensaje de una forma efectiva y duradera en el tiempo. Tener en cuenta las buena prácticas aprendidas en cuanto al uso de colores para separar datos según el tipo de gráfica."
   ]
  },
  {
   "cell_type": "markdown",
   "id": "ae384211",
   "metadata": {},
   "source": [
    "Para series de tiempo:\n",
    "\n",
    "Graficas lineas\n",
    "\n",
    "Graficas de barras\n",
    "\n",
    "Graficas de burbujas"
   ]
  },
  {
   "cell_type": "markdown",
   "id": "927d5540",
   "metadata": {},
   "source": [
    "¿ Cuales son los tipos de graficas correctas para comunicar tus hallazgos sobre Super Store Data ?\n",
    "\n",
    "graficas de barra para ver las categorias y subcateforias mas vendidas\n",
    "\n",
    "graficas de barra para ver los mejores clientes\n",
    "\n",
    "scatter plots para ver la correlacion entre sales, profit y discount\n",
    "\n",
    "graficas de mapa para ver las zonas con mejores ventas, peores ventas, y mayores descuentos\n",
    "\n",
    "graficas de dona, barra y lineales para ver en que trimestres del año hay mayores ventas y profit\n",
    "\n",
    "graficas de barra y scatter plots para ver en que meses hay mayores ventas y profit"
   ]
  },
  {
   "cell_type": "code",
   "execution_count": null,
   "id": "59f39bad",
   "metadata": {},
   "outputs": [],
   "source": []
  }
 ],
 "metadata": {
  "kernelspec": {
   "display_name": "Python 3 (ipykernel)",
   "language": "python",
   "name": "python3"
  },
  "language_info": {
   "codemirror_mode": {
    "name": "ipython",
    "version": 3
   },
   "file_extension": ".py",
   "mimetype": "text/x-python",
   "name": "python",
   "nbconvert_exporter": "python",
   "pygments_lexer": "ipython3",
   "version": "3.9.13"
  }
 },
 "nbformat": 4,
 "nbformat_minor": 5
}
