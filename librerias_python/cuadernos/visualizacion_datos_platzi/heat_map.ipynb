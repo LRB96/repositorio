{
 "cells": [
  {
   "cell_type": "markdown",
   "id": "23f3f345",
   "metadata": {},
   "source": [
    "Los heat map son una valiosa herramienta para entender el comportamiento de nuestros clientes en los establecimientos. Permite identificar las zonas del establecimiento por donde nuestros clientes pasan, se paran y ponen mayor atención, por tanto, descubrir las llamadas ‘zonas muertas de la tienda’ o las zonas por las que los clientes no suelen pasar.\n",
    "\n",
    "Algunos beneficios que ofrecen los heat map son:\n",
    "• Ayuda a los retailers a realizar un seguimiento de lo que les gusta a los clientes.\n",
    "• Mantiene un registro de lo que los clientes ignoran. Dibuja un mapa del tráfico de clientes dentro de la tienda.\n",
    "• Permite analizar los mejores sitios para colocar la publicidad.\n",
    "• Permite analizar el éxito de las campañas de venta implementadas.\n",
    "• Permite identificar el éxito de un producto concreto o gama de productos.\n",
    "• Detecta fallos en el diseño y/o organización de los productos en tienda.\n",
    "• Permite realizar pruebas test A/B con diferentes productos en la misma ubicación y analizar el rendimiento de cada uno de ellos."
   ]
  },
  {
   "cell_type": "markdown",
   "id": "d876db4c",
   "metadata": {},
   "source": [
    "Gráfica de heat map\n",
    "Nos ayuda a sobreponer sobre otro tipo de visualización, una paleta de colores que nos va a ayudar a entender la frecuencia de los objetos o resultados que tengamos en nuestra base de datos.\n",
    "\n",
    "Qué hacer\n",
    "\n",
    "Utilizar los heat maps para saber donde se repiten más ciertos sucesos\n",
    "\n",
    "Qué no hacer\n",
    "\n",
    "No tener una buena calibración de colores."
   ]
  },
  {
   "cell_type": "code",
   "execution_count": null,
   "id": "97e60062",
   "metadata": {},
   "outputs": [],
   "source": []
  },
  {
   "cell_type": "code",
   "execution_count": null,
   "id": "dbae5ad1",
   "metadata": {},
   "outputs": [],
   "source": []
  }
 ],
 "metadata": {
  "kernelspec": {
   "display_name": "Python 3 (ipykernel)",
   "language": "python",
   "name": "python3"
  },
  "language_info": {
   "codemirror_mode": {
    "name": "ipython",
    "version": 3
   },
   "file_extension": ".py",
   "mimetype": "text/x-python",
   "name": "python",
   "nbconvert_exporter": "python",
   "pygments_lexer": "ipython3",
   "version": "3.9.13"
  }
 },
 "nbformat": 4,
 "nbformat_minor": 5
}
