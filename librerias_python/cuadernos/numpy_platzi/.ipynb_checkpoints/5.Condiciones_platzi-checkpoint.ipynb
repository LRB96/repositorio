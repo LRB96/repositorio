{
 "cells": [
  {
   "cell_type": "code",
   "execution_count": 1,
   "id": "29506f33",
   "metadata": {},
   "outputs": [],
   "source": [
    "import numpy as np\n",
    "import pandas as pd"
   ]
  },
  {
   "cell_type": "markdown",
   "id": "0d2f01b3",
   "metadata": {},
   "source": [
    "                                Apuntes\n",
    "\n",
    "Se mete la condición entre corchetes al objeto de tipo array de numpy.\n",
    "Hacer un nuevo array con con condiciones."
   ]
  },
  {
   "cell_type": "markdown",
   "id": "5c4d1b0b",
   "metadata": {},
   "source": [
    "Las condiciones nos permiten hacer consultas más específicas.\n",
    "\n",
    "arr = np.linspace(1,10,10, dtype = 'int8')\n",
    "arr \n",
    "---> array([ 1,  2,  3,  4,  5,  6,  7,  8,  9, 10], dtype=int8)"
   ]
  },
  {
   "cell_type": "markdown",
   "id": "dad247f6",
   "metadata": {},
   "source": [
    "Regresa un array de booleanos dónde la condición se cumple.\n",
    "\n",
    "indices_cond = arr > 5\n",
    "indices_cond\n",
    "---> array([False, False, False, False, False,  True,  True,  True,  True, True])"
   ]
  },
  {
   "cell_type": "markdown",
   "id": "09d6b868",
   "metadata": {},
   "source": [
    "Regresa los valores para dónde la condiciones True.\n",
    "\n",
    "arr[indices_cond] \n",
    "---> array([ 6,  7,  8,  9, 10], dtype=int8)"
   ]
  },
  {
   "cell_type": "markdown",
   "id": "78e4268a",
   "metadata": {},
   "source": [
    "Múltiples condiciones.\n",
    "\n",
    "arr[(arr > 5) & (arr < 9)] \n",
    "---> array([6, 7, 8], dtype=int8)"
   ]
  },
  {
   "cell_type": "markdown",
   "id": "bc408474",
   "metadata": {},
   "source": [
    "Modificar los valores que cumplan la condición.\n",
    "\n",
    "arr[arr > 5] = 99\n",
    "arr\n",
    "---> array([ 1,  2,  3,  4,  5, 99, 99, 99, 99, 99], dtype=int8)"
   ]
  },
  {
   "cell_type": "code",
   "execution_count": 3,
   "id": "1c686ec4",
   "metadata": {},
   "outputs": [
    {
     "data": {
      "text/plain": [
       "array([ 1,  3,  5,  7,  9, 11, 13, 15, 17, 20], dtype=int8)"
      ]
     },
     "execution_count": 3,
     "metadata": {},
     "output_type": "execute_result"
    }
   ],
   "source": [
    "arr=np.linspace(1,20,10, dtype=\"int8\")\n",
    "arr"
   ]
  },
  {
   "cell_type": "code",
   "execution_count": 4,
   "id": "ef92df0f",
   "metadata": {},
   "outputs": [
    {
     "data": {
      "text/plain": [
       "array([False, False, False,  True,  True,  True,  True,  True,  True,\n",
       "        True])"
      ]
     },
     "execution_count": 4,
     "metadata": {},
     "output_type": "execute_result"
    }
   ],
   "source": [
    "indices_cond=arr>5\n",
    "indices_cond"
   ]
  },
  {
   "cell_type": "code",
   "execution_count": 5,
   "id": "88924bee",
   "metadata": {},
   "outputs": [
    {
     "data": {
      "text/plain": [
       "array([ 7,  9, 11, 13, 15, 17, 20], dtype=int8)"
      ]
     },
     "execution_count": 5,
     "metadata": {},
     "output_type": "execute_result"
    }
   ],
   "source": [
    "arr[indices_cond]"
   ]
  },
  {
   "cell_type": "code",
   "execution_count": 6,
   "id": "9ccd3449",
   "metadata": {},
   "outputs": [
    {
     "data": {
      "text/plain": [
       "array([7], dtype=int8)"
      ]
     },
     "execution_count": 6,
     "metadata": {},
     "output_type": "execute_result"
    }
   ],
   "source": [
    "arr[(arr>5)&(arr<9)]"
   ]
  },
  {
   "cell_type": "code",
   "execution_count": 8,
   "id": "4cf18685",
   "metadata": {},
   "outputs": [
    {
     "data": {
      "text/plain": [
       "array([ 1,  3,  5, 99, 99, 99, 99, 99, 99, 99], dtype=int8)"
      ]
     },
     "execution_count": 8,
     "metadata": {},
     "output_type": "execute_result"
    }
   ],
   "source": [
    "arr[arr>5]=99\n",
    "arr"
   ]
  },
  {
   "cell_type": "code",
   "execution_count": 10,
   "id": "b7415dad",
   "metadata": {},
   "outputs": [
    {
     "data": {
      "text/plain": [
       "array([99, 99, 99, 99, 99, 99, 99], dtype=int8)"
      ]
     },
     "execution_count": 10,
     "metadata": {},
     "output_type": "execute_result"
    }
   ],
   "source": [
    "arr[arr==99]"
   ]
  }
 ],
 "metadata": {
  "kernelspec": {
   "display_name": "Python 3 (ipykernel)",
   "language": "python",
   "name": "python3"
  },
  "language_info": {
   "codemirror_mode": {
    "name": "ipython",
    "version": 3
   },
   "file_extension": ".py",
   "mimetype": "text/x-python",
   "name": "python",
   "nbconvert_exporter": "python",
   "pygments_lexer": "ipython3",
   "version": "3.9.13"
  }
 },
 "nbformat": 4,
 "nbformat_minor": 5
}
