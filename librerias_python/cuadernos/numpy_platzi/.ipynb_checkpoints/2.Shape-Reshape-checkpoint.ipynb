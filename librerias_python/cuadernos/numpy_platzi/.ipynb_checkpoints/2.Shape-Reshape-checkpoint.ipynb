{
 "cells": [
  {
   "cell_type": "code",
   "execution_count": 1,
   "id": "29506f33",
   "metadata": {},
   "outputs": [],
   "source": [
    "import numpy as np\n",
    "import pandas as pd"
   ]
  },
  {
   "cell_type": "markdown",
   "id": "f7c24aba",
   "metadata": {},
   "source": [
    "                                Shape\n",
    "Indica la forma del arreglo.\n",
    "\n",
    "arr = np.random.randint(1,10,(3,2))\n",
    "arr.shape\n",
    "---> (3, 2)\n",
    "arr\n",
    "---> array([[4, 2],\n",
    "          [4, 8],\n",
    "          [4, 3]])"
   ]
  },
  {
   "cell_type": "markdown",
   "id": "5ed52b36",
   "metadata": {},
   "source": [
    "                                Reshape\n",
    "Transforma el arreglo mientras se mantengan los elementos.\n",
    "\n",
    "arr.reshape(1,6)\n",
    "----> array([[4, 2, 4, 8, 4, 3]])\n",
    "arr.reshape(2,3)\n",
    "---> array([[4, 2, 4],\n",
    "          [8, 4, 3]])\n",
    "np.reshape(arr,(1,6))\n",
    "---> array([[4, 2, 4, 8, 4, 3]])\n",
    "Se puede hacer un reshape como lo haría C.\n",
    "\n",
    "np.reshape(arr,(2,3), 'C')\n",
    "---> array([[4, 2, 4],\n",
    "       [8, 4, 3]])"
   ]
  },
  {
   "cell_type": "markdown",
   "id": "5d7ef609",
   "metadata": {},
   "source": [
    "También se puede hacer reshape a como lo haría Fortran.\n",
    "\n",
    "np.reshape(arr,(2,3), 'F')\n",
    "---> array([[4, 4, 8],\n",
    "       [4, 2, 3]])\n",
    "Además, existe la opción de hacer reshape según como esté optimizado nuestro computador. En este caso es como en C.\n",
    "\n",
    "np.reshape(arr,(2,3), 'A')\n",
    "---> array([[4, 2, 4],\n",
    "       [8, 4, 3]])\n",
    "No puedes cambiar la \"forma\" a la \"forma\" original del array, si tienes un (3,3) no lo puedes pasar a (4,2). \n",
    "No respeta los 9 elementos del array original."
   ]
  },
  {
   "cell_type": "code",
   "execution_count": null,
   "id": "d871a246",
   "metadata": {},
   "outputs": [],
   "source": []
  },
  {
   "cell_type": "code",
   "execution_count": null,
   "id": "acdd405f",
   "metadata": {},
   "outputs": [],
   "source": []
  },
  {
   "cell_type": "code",
   "execution_count": 5,
   "id": "1c686ec4",
   "metadata": {},
   "outputs": [
    {
     "data": {
      "text/plain": [
       "array([[5, 6],\n",
       "       [5, 3],\n",
       "       [2, 8]])"
      ]
     },
     "execution_count": 5,
     "metadata": {},
     "output_type": "execute_result"
    }
   ],
   "source": [
    "arr=np.random.randint(1,10,(3,2))\n",
    "arr"
   ]
  },
  {
   "cell_type": "code",
   "execution_count": 7,
   "id": "d26809ff",
   "metadata": {},
   "outputs": [
    {
     "data": {
      "text/plain": [
       "(3, 2)"
      ]
     },
     "execution_count": 7,
     "metadata": {},
     "output_type": "execute_result"
    }
   ],
   "source": [
    "arr.shape"
   ]
  },
  {
   "cell_type": "code",
   "execution_count": 8,
   "id": "93394492",
   "metadata": {},
   "outputs": [
    {
     "data": {
      "text/plain": [
       "array([[5, 6, 5, 3, 2, 8]])"
      ]
     },
     "execution_count": 8,
     "metadata": {},
     "output_type": "execute_result"
    }
   ],
   "source": [
    "arr.reshape(1,6)"
   ]
  },
  {
   "cell_type": "code",
   "execution_count": 9,
   "id": "232f4c84",
   "metadata": {},
   "outputs": [
    {
     "data": {
      "text/plain": [
       "array([[5, 6],\n",
       "       [5, 3],\n",
       "       [2, 8]])"
      ]
     },
     "execution_count": 9,
     "metadata": {},
     "output_type": "execute_result"
    }
   ],
   "source": [
    "arr.reshape(3,2)"
   ]
  },
  {
   "cell_type": "code",
   "execution_count": 10,
   "id": "0cbf2f03",
   "metadata": {},
   "outputs": [
    {
     "data": {
      "text/plain": [
       "array([[5, 6, 5, 3, 2, 8]])"
      ]
     },
     "execution_count": 10,
     "metadata": {},
     "output_type": "execute_result"
    }
   ],
   "source": [
    "np.reshape(arr,(1,6))"
   ]
  },
  {
   "cell_type": "code",
   "execution_count": 11,
   "id": "879a70a0",
   "metadata": {},
   "outputs": [
    {
     "data": {
      "text/plain": [
       "array([[5, 6, 5],\n",
       "       [3, 2, 8]])"
      ]
     },
     "execution_count": 11,
     "metadata": {},
     "output_type": "execute_result"
    }
   ],
   "source": [
    "#El lenuaje C es la base de Python. \n",
    "#C organiza por filas.\n",
    "np.reshape(arr,(2,3),\"C\")"
   ]
  },
  {
   "cell_type": "code",
   "execution_count": 12,
   "id": "ee26c4d5",
   "metadata": {},
   "outputs": [
    {
     "data": {
      "text/plain": [
       "array([[5, 2, 3],\n",
       "       [5, 6, 8]])"
      ]
     },
     "execution_count": 12,
     "metadata": {},
     "output_type": "execute_result"
    }
   ],
   "source": [
    "#F organiza por columnas.\n",
    "np.reshape(arr,(2,3),\"F\")"
   ]
  },
  {
   "cell_type": "code",
   "execution_count": 14,
   "id": "8aace822",
   "metadata": {},
   "outputs": [
    {
     "data": {
      "text/plain": [
       "array([[5, 6, 5],\n",
       "       [3, 2, 8]])"
      ]
     },
     "execution_count": 14,
     "metadata": {},
     "output_type": "execute_result"
    }
   ],
   "source": [
    "#A optimaza tiempo.\n",
    "np.reshape(arr,(2,3),\"A\")"
   ]
  },
  {
   "cell_type": "code",
   "execution_count": null,
   "id": "b7bc9db7",
   "metadata": {},
   "outputs": [],
   "source": [
    "#RETO\n",
    "#Crear un tensor con cualquier dimensionalidad, y aplicar reshape."
   ]
  },
  {
   "cell_type": "code",
   "execution_count": 6,
   "id": "70775bb5",
   "metadata": {},
   "outputs": [
    {
     "data": {
      "text/plain": [
       "array([[21, 68],\n",
       "       [70, 80],\n",
       "       [35, 82]])"
      ]
     },
     "execution_count": 6,
     "metadata": {},
     "output_type": "execute_result"
    }
   ],
   "source": [
    "arr2=np.random.randint(0,100,(3,2))\n",
    "arr2"
   ]
  },
  {
   "cell_type": "code",
   "execution_count": 7,
   "id": "2449dac9",
   "metadata": {},
   "outputs": [
    {
     "data": {
      "text/plain": [
       "2"
      ]
     },
     "execution_count": 7,
     "metadata": {},
     "output_type": "execute_result"
    }
   ],
   "source": [
    "arr2.ndim"
   ]
  },
  {
   "cell_type": "code",
   "execution_count": 9,
   "id": "b3e8e14e",
   "metadata": {},
   "outputs": [
    {
     "data": {
      "text/plain": [
       "array([[[21],\n",
       "        [68],\n",
       "        [70]],\n",
       "\n",
       "       [[80],\n",
       "        [35],\n",
       "        [82]]])"
      ]
     },
     "execution_count": 9,
     "metadata": {},
     "output_type": "execute_result"
    }
   ],
   "source": [
    "arr2.reshape(2,3,-1)"
   ]
  },
  {
   "cell_type": "code",
   "execution_count": 10,
   "id": "e1db09c0",
   "metadata": {},
   "outputs": [
    {
     "data": {
      "text/plain": [
       "2"
      ]
     },
     "execution_count": 10,
     "metadata": {},
     "output_type": "execute_result"
    }
   ],
   "source": [
    "arr2.ndim"
   ]
  },
  {
   "cell_type": "code",
   "execution_count": 12,
   "id": "44769b9e",
   "metadata": {},
   "outputs": [
    {
     "data": {
      "text/plain": [
       "array([[ 6,  0, 11,  7],\n",
       "       [ 8, 12, 16, 16],\n",
       "       [14, 10,  4,  7],\n",
       "       [15,  4,  5, 13],\n",
       "       [ 0, 11,  5, 15]])"
      ]
     },
     "execution_count": 12,
     "metadata": {},
     "output_type": "execute_result"
    }
   ],
   "source": [
    "arr3=np.random.randint(0,20,(5,4))\n",
    "arr3"
   ]
  },
  {
   "cell_type": "code",
   "execution_count": 13,
   "id": "c7b48604",
   "metadata": {},
   "outputs": [
    {
     "data": {
      "text/plain": [
       "array([[ 6,  0, 11,  7,  8, 12, 16, 16, 14, 10],\n",
       "       [ 4,  7, 15,  4,  5, 13,  0, 11,  5, 15]])"
      ]
     },
     "execution_count": 13,
     "metadata": {},
     "output_type": "execute_result"
    }
   ],
   "source": [
    "arr3.reshape(2,-1)"
   ]
  },
  {
   "cell_type": "code",
   "execution_count": 15,
   "id": "45f182f2",
   "metadata": {},
   "outputs": [
    {
     "data": {
      "text/plain": [
       "array([[ 6,  0, 11,  7,  8],\n",
       "       [12, 16, 16, 14, 10],\n",
       "       [ 4,  7, 15,  4,  5],\n",
       "       [13,  0, 11,  5, 15]])"
      ]
     },
     "execution_count": 15,
     "metadata": {},
     "output_type": "execute_result"
    }
   ],
   "source": [
    "arr3.reshape(4,-1)"
   ]
  },
  {
   "cell_type": "code",
   "execution_count": null,
   "id": "b115c98a",
   "metadata": {},
   "outputs": [],
   "source": []
  },
  {
   "cell_type": "code",
   "execution_count": null,
   "id": "14850555",
   "metadata": {},
   "outputs": [],
   "source": []
  },
  {
   "cell_type": "code",
   "execution_count": null,
   "id": "a82c61a6",
   "metadata": {},
   "outputs": [],
   "source": []
  },
  {
   "cell_type": "code",
   "execution_count": null,
   "id": "669816e0",
   "metadata": {},
   "outputs": [],
   "source": []
  }
 ],
 "metadata": {
  "kernelspec": {
   "display_name": "Python 3 (ipykernel)",
   "language": "python",
   "name": "python3"
  },
  "language_info": {
   "codemirror_mode": {
    "name": "ipython",
    "version": 3
   },
   "file_extension": ".py",
   "mimetype": "text/x-python",
   "name": "python",
   "nbconvert_exporter": "python",
   "pygments_lexer": "ipython3",
   "version": "3.9.13"
  }
 },
 "nbformat": 4,
 "nbformat_minor": 5
}
