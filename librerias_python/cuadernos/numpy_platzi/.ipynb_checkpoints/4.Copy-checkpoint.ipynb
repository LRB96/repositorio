{
 "cells": [
  {
   "cell_type": "code",
   "execution_count": 9,
   "id": "29506f33",
   "metadata": {},
   "outputs": [],
   "source": [
    "import numpy as np\n",
    "import pandas as pd"
   ]
  },
  {
   "cell_type": "markdown",
   "id": "494cd3ba",
   "metadata": {},
   "source": [
    "                                    Apuntes\n",
    "\n",
    "Siempre usar copy, por ejemplo, arr_copy=arr.copy()\n",
    "\n",
    "Se crea una copia de seguridad del arreglo."
   ]
  },
  {
   "cell_type": "markdown",
   "id": "79bc3f84",
   "metadata": {},
   "source": [
    ".copy() nos permite copiar un array de NumPy en otra variable de tal forma que al modificar el nuevo array los cambios no se vean reflejados en array original.\n",
    "\n",
    "arr = np.arange(0, 11)\n",
    "arr ----> array([ 0,  1,  2,  3,  4,  5,  6,  7,  8,  9, 10])"
   ]
  },
  {
   "cell_type": "markdown",
   "id": "0a0714f7",
   "metadata": {},
   "source": [
    "Tomamos un trozo del array original\n",
    "\n",
    "arr[0:6] ----> array([0, 1, 2, 3, 4, 5])\n",
    "trozo_de_arr = arr[0:6]"
   ]
  },
  {
   "cell_type": "markdown",
   "id": "9fc76e65",
   "metadata": {},
   "source": [
    "Queremos pasar todas nuestras variables a 0\n",
    "\n",
    "trozo_de_arr[:] = 0\n",
    "trozo_de_arr ----> array([0, 0, 0, 0, 0, 0])"
   ]
  },
  {
   "cell_type": "markdown",
   "id": "60629cb5",
   "metadata": {},
   "source": [
    "Se han modificado los datos del array original porque seguía haciendo referencia a esa variable.\n",
    "\n",
    "arr ----> array([ 0,  0,  0,  0,  0,  0,  6,  7,  8,  9, 10])"
   ]
  },
  {
   "cell_type": "markdown",
   "id": "610dd821",
   "metadata": {},
   "source": [
    "Con .copy() creamos una copia para no dañar nuestro array original\n",
    "\n",
    "arr_copy = arr.copy()\n",
    "arr_copy[:] = 100\n",
    "arr_copy ----> array([100, 100, 100, 100, 100, 100, 100, 100, 100, 100, 100])"
   ]
  },
  {
   "cell_type": "code",
   "execution_count": 2,
   "id": "2980a915",
   "metadata": {},
   "outputs": [
    {
     "data": {
      "text/plain": [
       "array([ 0,  1,  2,  3,  4,  5,  6,  7,  8,  9, 10])"
      ]
     },
     "execution_count": 2,
     "metadata": {},
     "output_type": "execute_result"
    }
   ],
   "source": [
    "arr=np.arange(0,11)\n",
    "arr"
   ]
  },
  {
   "cell_type": "code",
   "execution_count": 4,
   "id": "e41a6e9b",
   "metadata": {},
   "outputs": [
    {
     "data": {
      "text/plain": [
       "array([0, 1, 2, 3, 4, 5])"
      ]
     },
     "execution_count": 4,
     "metadata": {},
     "output_type": "execute_result"
    }
   ],
   "source": [
    "arrito=arr[0:6]\n",
    "arrito"
   ]
  },
  {
   "cell_type": "code",
   "execution_count": 5,
   "id": "9db0849c",
   "metadata": {},
   "outputs": [],
   "source": [
    "arr_copy=arr.copy()"
   ]
  },
  {
   "cell_type": "code",
   "execution_count": 7,
   "id": "e674654c",
   "metadata": {},
   "outputs": [
    {
     "data": {
      "text/plain": [
       "array([100, 100, 100, 100, 100, 100, 100, 100, 100, 100, 100])"
      ]
     },
     "execution_count": 7,
     "metadata": {},
     "output_type": "execute_result"
    }
   ],
   "source": [
    "arr_copy[:]=100\n",
    "arr_copy"
   ]
  },
  {
   "cell_type": "code",
   "execution_count": 8,
   "id": "1175abea",
   "metadata": {},
   "outputs": [
    {
     "data": {
      "text/plain": [
       "array([ 0,  1,  2,  3,  4,  5,  6,  7,  8,  9, 10])"
      ]
     },
     "execution_count": 8,
     "metadata": {},
     "output_type": "execute_result"
    }
   ],
   "source": [
    "arr"
   ]
  },
  {
   "cell_type": "code",
   "execution_count": 3,
   "id": "1c686ec4",
   "metadata": {},
   "outputs": [
    {
     "data": {
      "text/plain": [
       "array([ 0,  1,  2,  3,  4,  5,  6,  7,  8,  9, 10])"
      ]
     },
     "execution_count": 3,
     "metadata": {},
     "output_type": "execute_result"
    }
   ],
   "source": [
    "arr=np.arange(0,11)\n",
    "arr"
   ]
  },
  {
   "cell_type": "code",
   "execution_count": 7,
   "id": "d0b7b8b7",
   "metadata": {},
   "outputs": [
    {
     "data": {
      "text/plain": [
       "array([0, 0, 0, 0, 0, 0])"
      ]
     },
     "execution_count": 7,
     "metadata": {},
     "output_type": "execute_result"
    }
   ],
   "source": [
    "trozo=arr[0:6]\n",
    "trozo"
   ]
  },
  {
   "cell_type": "code",
   "execution_count": 8,
   "id": "2f794f94",
   "metadata": {},
   "outputs": [
    {
     "data": {
      "text/plain": [
       "array([0, 0, 0, 0, 0, 0])"
      ]
     },
     "execution_count": 8,
     "metadata": {},
     "output_type": "execute_result"
    }
   ],
   "source": [
    "trozo[:]=0\n",
    "trozo"
   ]
  },
  {
   "cell_type": "code",
   "execution_count": 9,
   "id": "8f77d935",
   "metadata": {},
   "outputs": [
    {
     "data": {
      "text/plain": [
       "array([ 0,  0,  0,  0,  0,  0,  6,  7,  8,  9, 10])"
      ]
     },
     "execution_count": 9,
     "metadata": {},
     "output_type": "execute_result"
    }
   ],
   "source": [
    "arr"
   ]
  },
  {
   "cell_type": "code",
   "execution_count": 10,
   "id": "1204c790",
   "metadata": {},
   "outputs": [],
   "source": [
    "copia=arr.copy()"
   ]
  },
  {
   "cell_type": "code",
   "execution_count": 11,
   "id": "9b53435e",
   "metadata": {},
   "outputs": [
    {
     "data": {
      "text/plain": [
       "array([ 0,  0,  0,  0,  0,  0,  6,  7,  8,  9, 10])"
      ]
     },
     "execution_count": 11,
     "metadata": {},
     "output_type": "execute_result"
    }
   ],
   "source": [
    "copia"
   ]
  },
  {
   "cell_type": "code",
   "execution_count": 12,
   "id": "6f876ac2",
   "metadata": {},
   "outputs": [],
   "source": [
    "copia[:]=100"
   ]
  },
  {
   "cell_type": "code",
   "execution_count": 13,
   "id": "40733b6b",
   "metadata": {},
   "outputs": [
    {
     "data": {
      "text/plain": [
       "array([100, 100, 100, 100, 100, 100, 100, 100, 100, 100, 100])"
      ]
     },
     "execution_count": 13,
     "metadata": {},
     "output_type": "execute_result"
    }
   ],
   "source": [
    "copia"
   ]
  },
  {
   "cell_type": "code",
   "execution_count": 14,
   "id": "0033d4f6",
   "metadata": {},
   "outputs": [
    {
     "data": {
      "text/plain": [
       "array([ 0,  0,  0,  0,  0,  0,  6,  7,  8,  9, 10])"
      ]
     },
     "execution_count": 14,
     "metadata": {},
     "output_type": "execute_result"
    }
   ],
   "source": [
    "arr"
   ]
  }
 ],
 "metadata": {
  "kernelspec": {
   "display_name": "Python 3 (ipykernel)",
   "language": "python",
   "name": "python3"
  },
  "language_info": {
   "codemirror_mode": {
    "name": "ipython",
    "version": 3
   },
   "file_extension": ".py",
   "mimetype": "text/x-python",
   "name": "python",
   "nbconvert_exporter": "python",
   "pygments_lexer": "ipython3",
   "version": "3.9.13"
  }
 },
 "nbformat": 4,
 "nbformat_minor": 5
}
