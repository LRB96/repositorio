{
 "cells": [
  {
   "cell_type": "code",
   "execution_count": 1,
   "id": "29506f33",
   "metadata": {},
   "outputs": [],
   "source": [
    "import pandas as pd\n",
    "import numpy as np"
   ]
  },
  {
   "cell_type": "markdown",
   "id": "5af65a4a",
   "metadata": {},
   "source": [
    "                                ¿Por qué NumPy?\n",
    "Es una librería enfocada al cálculo numérico y manejo de Arrays.\n",
    "Es muy veloz, hasta 50 veces más rápido que usar una lista de Python o C. Optimiza el almacenamiento en memoria. Maneja distintos tipos de datos. Es una librería muy poderosa, se pueden crear redes neuronales desde cero."
   ]
  },
  {
   "cell_type": "markdown",
   "id": "550f8a23",
   "metadata": {},
   "source": [
    "El array es el principal objeto de la librería. Representa datos de manera estructurada y se puede acceder a ellos a través del indexado, a un dato específico o un grupo de muchos datos específicos.\n",
    "\n",
    "lista = [1, 2 , 3, 4, 5, 6, 7, 8, 9] \n",
    "lista\n",
    "---> [1, 2, 3, 4, 5, 6, 7, 8, 9]"
   ]
  },
  {
   "cell_type": "markdown",
   "id": "f73f21d7",
   "metadata": {},
   "source": [
    "Volvemos nuestra lista, un array\n",
    "\n",
    "arr = np.array(lista)\n",
    "arr\n",
    "---> [1, 2, 3, 4, 5, 6, 7, 8, 9]"
   ]
  },
  {
   "cell_type": "markdown",
   "id": "efc4ce01",
   "metadata": {},
   "source": [
    "Una matriz son varios Vectores o listas agrupadas una encima de la otra, es como una tabla de Excel\n",
    "\n",
    "matriz = [[1, 2, 3], [4, 5, 6], [7, 8, 9]]\n",
    "matriz = np.array(matriz)\n",
    "matriz\n",
    "---> array([[1, 2, 3],\n",
    "       \t   [4, 5, 6],\n",
    "       \t   [7, 8, 9]])"
   ]
  },
  {
   "cell_type": "markdown",
   "id": "99f48497",
   "metadata": {},
   "source": [
    "El indexado nos permite acceder a los elementos de los array y matrices\n",
    "Los elementos se empiezan a contar desde 0.\n",
    "\n",
    "arr[0]\n",
    "---> 1"
   ]
  },
  {
   "cell_type": "markdown",
   "id": "a7311a00",
   "metadata": {},
   "source": [
    "Es posible operar directamente con los elementos.\n",
    "\n",
    "arr[0] + arr[5]\n",
    "---> 7"
   ]
  },
  {
   "cell_type": "markdown",
   "id": "c747f29b",
   "metadata": {},
   "source": [
    "En el caso de las matrices, al indexar una posición se regresa el array de dicha posición.\n",
    "\n",
    "matriz[0]\n",
    "---> array([1, 2, 3])"
   ]
  },
  {
   "cell_type": "markdown",
   "id": "d080290f",
   "metadata": {},
   "source": [
    "Para seleccionar un solo elemento de la matriz se especifica la posición del elemento separada por comas.\n",
    "\n",
    "Nota: El primer elemento selecciona las filas, el segundo elemento las columnas\n",
    "\n",
    "matriz[0, 2]\n",
    "---> 3"
   ]
  },
  {
   "cell_type": "markdown",
   "id": "439d0bbf",
   "metadata": {},
   "source": [
    "                                Slicing\n",
    "Nos permite extraer varios datos, tiene un comienzo y un final.\n",
    "En este ejemplo se está extrayendo datos desde la posición 1 hasta la 5.\n",
    "\n",
    "arr[1:6]\n",
    "---> array([2, 3, 4, 5, 6])"
   ]
  },
  {
   "cell_type": "markdown",
   "id": "97178e65",
   "metadata": {},
   "source": [
    "Si no se ingresa el valor de inicio, se toma el inicio como la posición 0.\n",
    "\n",
    "arr[:6]\n",
    "---> array([1, 2, 3, 4, 5, 6])\n",
    "En cambio, si no se le da una posición final, se regresan todos los elementos hasta el final del array.\n",
    "\n",
    "arr[2:]\n",
    "---> array([3, 4, 5, 6, 7, 8, 9])\n",
    "También se puede trabajar por pasos.\n",
    "\n",
    "En este ejemplo de 3 en 3.\n",
    "Regresa la posición 0, 0 + 3, 3 + 3 y como no hay posición 6 + 3, no se regrese nada.\n",
    "\n",
    "arr[::3]\n",
    "---> array([1, 4, 7])"
   ]
  },
  {
   "cell_type": "markdown",
   "id": "8dc2c56f",
   "metadata": {},
   "source": [
    "Cuando se le asigna un valor negativo se regresan los valores comenzando desde la última posición del array.\n",
    "\n",
    "arr[-1]\n",
    "---> 9\n",
    "arr[-3:]\n",
    "---> array([7, 8, 9])"
   ]
  },
  {
   "cell_type": "markdown",
   "id": "ad45d28a",
   "metadata": {},
   "source": [
    "Para el caso de las matrices, sucede algo similar.\n",
    "Para acceder a los valores entre filas.\n",
    "\n",
    "matriz[1:]\n",
    "---> array([[4, 5, 6],\n",
    "       \t   [7, 8, 9]])"
   ]
  },
  {
   "cell_type": "markdown",
   "id": "0649f560",
   "metadata": {},
   "source": [
    "Para acceder a los valores entre filas y columnas.\n",
    "\n",
    "matriz[1:, 0:2]\n",
    "---> array([[4, 5],\n",
    "            [7, 8]])"
   ]
  },
  {
   "cell_type": "markdown",
   "id": "aa523f3e",
   "metadata": {},
   "source": [
    "                                Apuntes\n",
    "Indice 0, elemento numero 1 por el indice = 2 \n",
    "\n",
    "Para seleccionar filas, y columnas de una matriz se usa coma para separar. \n",
    "\n",
    "Con linspace el primer valor es donde inicia, el segundo donde termina, y el tercero cuantos va ha generar. \n",
    "\n",
    "eye() se genera una matriz lineal. (10,10) filas y columnas."
   ]
  },
  {
   "cell_type": "code",
   "execution_count": 8,
   "id": "71133b78",
   "metadata": {},
   "outputs": [
    {
     "data": {
      "text/plain": [
       "array([1, 2, 3, 4, 5, 6, 7, 8, 9])"
      ]
     },
     "execution_count": 8,
     "metadata": {},
     "output_type": "execute_result"
    }
   ],
   "source": [
    "lista=[1,2,3,4,5,6,7,8,9]\n",
    "np.array(lista)"
   ]
  },
  {
   "cell_type": "code",
   "execution_count": 10,
   "id": "aae210b8",
   "metadata": {
    "scrolled": true
   },
   "outputs": [
    {
     "data": {
      "text/plain": [
       "array([[1, 2, 3],\n",
       "       [4, 5, 6],\n",
       "       [7, 8, 9]])"
      ]
     },
     "execution_count": 10,
     "metadata": {},
     "output_type": "execute_result"
    }
   ],
   "source": [
    "matriz=[[1,2,3],[4,5,6],[7,8,9]]\n",
    "matriz=np.array(matriz)\n",
    "matriz"
   ]
  },
  {
   "cell_type": "code",
   "execution_count": 11,
   "id": "ff147059",
   "metadata": {},
   "outputs": [
    {
     "data": {
      "text/plain": [
       "numpy.ndarray"
      ]
     },
     "execution_count": 11,
     "metadata": {},
     "output_type": "execute_result"
    }
   ],
   "source": [
    "type(matriz)"
   ]
  },
  {
   "cell_type": "code",
   "execution_count": 13,
   "id": "86172946",
   "metadata": {
    "scrolled": true
   },
   "outputs": [
    {
     "data": {
      "text/plain": [
       "array([[1, 2, 3],\n",
       "       [4, 5, 6],\n",
       "       [7, 8, 9]])"
      ]
     },
     "execution_count": 13,
     "metadata": {},
     "output_type": "execute_result"
    }
   ],
   "source": [
    "matriz"
   ]
  },
  {
   "cell_type": "code",
   "execution_count": 17,
   "id": "7e1e4578",
   "metadata": {},
   "outputs": [
    {
     "data": {
      "text/plain": [
       "2"
      ]
     },
     "execution_count": 17,
     "metadata": {},
     "output_type": "execute_result"
    }
   ],
   "source": [
    "matriz[0,1]"
   ]
  },
  {
   "cell_type": "code",
   "execution_count": 18,
   "id": "b723b2fe",
   "metadata": {},
   "outputs": [
    {
     "data": {
      "text/plain": [
       "[1, 2, 3]"
      ]
     },
     "execution_count": 18,
     "metadata": {},
     "output_type": "execute_result"
    }
   ],
   "source": [
    "lista[0:3]"
   ]
  },
  {
   "cell_type": "code",
   "execution_count": 19,
   "id": "d6890f79",
   "metadata": {},
   "outputs": [
    {
     "data": {
      "text/plain": [
       "[2, 3, 4, 5, 6]"
      ]
     },
     "execution_count": 19,
     "metadata": {},
     "output_type": "execute_result"
    }
   ],
   "source": [
    "lista[1:6]"
   ]
  },
  {
   "cell_type": "code",
   "execution_count": 21,
   "id": "5679abd2",
   "metadata": {},
   "outputs": [
    {
     "data": {
      "text/plain": [
       "[1, 3, 5, 7, 9]"
      ]
     },
     "execution_count": 21,
     "metadata": {},
     "output_type": "execute_result"
    }
   ],
   "source": [
    "lista[::2]"
   ]
  },
  {
   "cell_type": "code",
   "execution_count": 23,
   "id": "a65a67c2",
   "metadata": {},
   "outputs": [
    {
     "data": {
      "text/plain": [
       "[7, 8, 9]"
      ]
     },
     "execution_count": 23,
     "metadata": {},
     "output_type": "execute_result"
    }
   ],
   "source": [
    "lista[-3:]"
   ]
  },
  {
   "cell_type": "code",
   "execution_count": 27,
   "id": "6252fefe",
   "metadata": {},
   "outputs": [
    {
     "data": {
      "text/plain": [
       "array([[1, 2, 3],\n",
       "       [4, 5, 6],\n",
       "       [7, 8, 9]])"
      ]
     },
     "execution_count": 27,
     "metadata": {},
     "output_type": "execute_result"
    }
   ],
   "source": [
    "matriz"
   ]
  },
  {
   "cell_type": "code",
   "execution_count": 28,
   "id": "715bf79f",
   "metadata": {},
   "outputs": [
    {
     "data": {
      "text/plain": [
       "array([4, 7])"
      ]
     },
     "execution_count": 28,
     "metadata": {},
     "output_type": "execute_result"
    }
   ],
   "source": [
    "matriz[1:,0]"
   ]
  },
  {
   "cell_type": "code",
   "execution_count": 44,
   "id": "10e9c0c8",
   "metadata": {},
   "outputs": [
    {
     "data": {
      "text/plain": [
       "array([[[ 1,  2,  3],\n",
       "        [ 4,  5,  6],\n",
       "        [ 7,  8,  9]],\n",
       "\n",
       "       [[10, 11, 12],\n",
       "        [13, 14, 15],\n",
       "        [16, 17, 18]]])"
      ]
     },
     "execution_count": 44,
     "metadata": {},
     "output_type": "execute_result"
    }
   ],
   "source": [
    "matriz2=np.array([[[1,2,3],[4,5,6],[7,8,9]],[[10,11,12],[13,14,15],[16,17,18]]])\n",
    "matriz2"
   ]
  },
  {
   "cell_type": "code",
   "execution_count": 45,
   "id": "b1a97518",
   "metadata": {},
   "outputs": [
    {
     "data": {
      "text/plain": [
       "3"
      ]
     },
     "execution_count": 45,
     "metadata": {},
     "output_type": "execute_result"
    }
   ],
   "source": [
    "matriz2.ndim"
   ]
  },
  {
   "cell_type": "markdown",
   "id": "d9e6ecde",
   "metadata": {},
   "source": [
    "                                Temas de platzi"
   ]
  },
  {
   "cell_type": "code",
   "execution_count": 47,
   "id": "331eb672",
   "metadata": {},
   "outputs": [
    {
     "data": {
      "text/plain": [
       "array([[1, 2, 3],\n",
       "       [4, 5, 6],\n",
       "       [7, 8, 9]])"
      ]
     },
     "execution_count": 47,
     "metadata": {},
     "output_type": "execute_result"
    }
   ],
   "source": [
    "matriz2[0]"
   ]
  },
  {
   "cell_type": "code",
   "execution_count": 2,
   "id": "b873e293",
   "metadata": {},
   "outputs": [
    {
     "data": {
      "text/plain": [
       "[0, 1, 2, 3, 4, 5, 6, 7, 8, 9]"
      ]
     },
     "execution_count": 2,
     "metadata": {},
     "output_type": "execute_result"
    }
   ],
   "source": [
    "list(range(0,10))"
   ]
  },
  {
   "cell_type": "code",
   "execution_count": 7,
   "id": "c05eee8a",
   "metadata": {},
   "outputs": [
    {
     "data": {
      "text/plain": [
       "array([ 0,  2,  4,  6,  8, 10, 12, 14, 16, 18, 20])"
      ]
     },
     "execution_count": 7,
     "metadata": {},
     "output_type": "execute_result"
    }
   ],
   "source": [
    "np.arange(0,21,2)"
   ]
  },
  {
   "cell_type": "code",
   "execution_count": 10,
   "id": "d6830db4",
   "metadata": {},
   "outputs": [
    {
     "data": {
      "text/plain": [
       "array([[0., 0., 0., 0., 0.],\n",
       "       [0., 0., 0., 0., 0.],\n",
       "       [0., 0., 0., 0., 0.],\n",
       "       [0., 0., 0., 0., 0.],\n",
       "       [0., 0., 0., 0., 0.],\n",
       "       [0., 0., 0., 0., 0.],\n",
       "       [0., 0., 0., 0., 0.],\n",
       "       [0., 0., 0., 0., 0.],\n",
       "       [0., 0., 0., 0., 0.],\n",
       "       [0., 0., 0., 0., 0.]])"
      ]
     },
     "execution_count": 10,
     "metadata": {},
     "output_type": "execute_result"
    }
   ],
   "source": [
    "np.zeros((10,5))"
   ]
  },
  {
   "cell_type": "code",
   "execution_count": 11,
   "id": "c128d9bd",
   "metadata": {},
   "outputs": [
    {
     "data": {
      "text/plain": [
       "array([[1., 1., 1., 1., 1.],\n",
       "       [1., 1., 1., 1., 1.],\n",
       "       [1., 1., 1., 1., 1.],\n",
       "       [1., 1., 1., 1., 1.],\n",
       "       [1., 1., 1., 1., 1.],\n",
       "       [1., 1., 1., 1., 1.],\n",
       "       [1., 1., 1., 1., 1.],\n",
       "       [1., 1., 1., 1., 1.],\n",
       "       [1., 1., 1., 1., 1.],\n",
       "       [1., 1., 1., 1., 1.]])"
      ]
     },
     "execution_count": 11,
     "metadata": {},
     "output_type": "execute_result"
    }
   ],
   "source": [
    "np.ones((10,5))"
   ]
  },
  {
   "cell_type": "code",
   "execution_count": 2,
   "id": "97adba71",
   "metadata": {},
   "outputs": [
    {
     "name": "stdout",
     "output_type": "stream",
     "text": [
      "2\n"
     ]
    }
   ],
   "source": [
    "cero=np.zeros((10,5))\n",
    "print(cero.ndim) "
   ]
  },
  {
   "cell_type": "code",
   "execution_count": 39,
   "id": "d62d7fce",
   "metadata": {},
   "outputs": [
    {
     "data": {
      "text/plain": [
       "array([[1., 1., 1., 1., 1.],\n",
       "       [1., 1., 1., 1., 1.],\n",
       "       [1., 1., 1., 1., 1.],\n",
       "       [1., 1., 1., 1., 1.],\n",
       "       [1., 1., 1., 1., 1.],\n",
       "       [1., 1., 1., 1., 1.],\n",
       "       [1., 1., 1., 1., 1.],\n",
       "       [1., 1., 1., 1., 1.],\n",
       "       [1., 1., 1., 1., 1.],\n",
       "       [1., 1., 1., 1., 1.]])"
      ]
     },
     "execution_count": 39,
     "metadata": {},
     "output_type": "execute_result"
    }
   ],
   "source": [
    "np.ones((10,5))"
   ]
  },
  {
   "cell_type": "code",
   "execution_count": 12,
   "id": "0590e670",
   "metadata": {
    "scrolled": true
   },
   "outputs": [
    {
     "data": {
      "text/plain": [
       "array([0.        , 0.26315789, 0.52631579, 0.78947368, 1.05263158,\n",
       "       1.31578947, 1.57894737, 1.84210526, 2.10526316, 2.36842105,\n",
       "       2.63157895, 2.89473684, 3.15789474, 3.42105263, 3.68421053,\n",
       "       3.94736842, 4.21052632, 4.47368421, 4.73684211, 5.        ])"
      ]
     },
     "execution_count": 12,
     "metadata": {},
     "output_type": "execute_result"
    }
   ],
   "source": [
    "np.linspace(0,5,20)"
   ]
  },
  {
   "cell_type": "code",
   "execution_count": 13,
   "id": "fc48c02c",
   "metadata": {},
   "outputs": [
    {
     "data": {
      "text/plain": [
       "array([[1., 0., 0., 0.],\n",
       "       [0., 1., 0., 0.],\n",
       "       [0., 0., 1., 0.],\n",
       "       [0., 0., 0., 1.]])"
      ]
     },
     "execution_count": 13,
     "metadata": {},
     "output_type": "execute_result"
    }
   ],
   "source": [
    "np.eye(4)"
   ]
  },
  {
   "cell_type": "code",
   "execution_count": 14,
   "id": "575c5d6e",
   "metadata": {},
   "outputs": [
    {
     "data": {
      "text/plain": [
       "0.8048921927399052"
      ]
     },
     "execution_count": 14,
     "metadata": {},
     "output_type": "execute_result"
    }
   ],
   "source": [
    "np.random.rand()"
   ]
  },
  {
   "cell_type": "code",
   "execution_count": 18,
   "id": "8e838b82",
   "metadata": {},
   "outputs": [
    {
     "data": {
      "text/plain": [
       "array([[ 3, 17,  7, 16, 42, 51, 10, 36, 69, 67],\n",
       "       [44, 65, 17, 34, 77,  7, 38, 61, 51, 49],\n",
       "       [10, 75, 35, 58, 17, 69, 25, 51, 74, 76],\n",
       "       [45, 97,  8, 44, 71, 41, 76, 37, 20, 94],\n",
       "       [86, 76, 29, 69, 98, 33, 80,  2, 23, 95],\n",
       "       [52, 13,  1, 69, 72, 10,  6, 67, 38, 17],\n",
       "       [96, 24, 49, 58, 57, 19,  4, 25, 25, 52],\n",
       "       [72, 49,  4, 36, 96, 67, 99, 54, 64, 30],\n",
       "       [77, 11, 36, 94, 24, 42, 42, 27, 77, 97],\n",
       "       [96, 92, 51, 48, 96,  1, 34, 68, 21,  6]])"
      ]
     },
     "execution_count": 18,
     "metadata": {},
     "output_type": "execute_result"
    }
   ],
   "source": [
    "matris=np.random.randint(0,100,(10,10))\n",
    "matris"
   ]
  },
  {
   "cell_type": "code",
   "execution_count": 19,
   "id": "ee60db7d",
   "metadata": {},
   "outputs": [
    {
     "data": {
      "text/plain": [
       "2"
      ]
     },
     "execution_count": 19,
     "metadata": {},
     "output_type": "execute_result"
    }
   ],
   "source": [
    "matris.ndim"
   ]
  },
  {
   "cell_type": "code",
   "execution_count": 26,
   "id": "89f7a817",
   "metadata": {},
   "outputs": [
    {
     "data": {
      "text/plain": [
       "array([0.64144689, 0.70811817, 0.60305169, 0.10532312])"
      ]
     },
     "execution_count": 26,
     "metadata": {},
     "output_type": "execute_result"
    }
   ],
   "source": [
    "np.random.rand(4)"
   ]
  },
  {
   "cell_type": "code",
   "execution_count": 7,
   "id": "3b4a4988",
   "metadata": {},
   "outputs": [
    {
     "data": {
      "text/plain": [
       "array([[0.35021541, 0.79002467, 0.36498027, 0.83508986],\n",
       "       [0.17935023, 0.55607454, 0.75371589, 0.33620026],\n",
       "       [0.38407451, 0.1604836 , 0.76273831, 0.69413098],\n",
       "       [0.59238053, 0.40952549, 0.54552468, 0.45045005]])"
      ]
     },
     "execution_count": 7,
     "metadata": {},
     "output_type": "execute_result"
    }
   ],
   "source": [
    "arr=np.random.rand(4,4)\n",
    "arr"
   ]
  },
  {
   "cell_type": "code",
   "execution_count": 52,
   "id": "3ecda5a5",
   "metadata": {},
   "outputs": [
    {
     "data": {
      "text/plain": [
       "8"
      ]
     },
     "execution_count": 52,
     "metadata": {},
     "output_type": "execute_result"
    }
   ],
   "source": [
    "arr2=np.random.randint(1,15)\n",
    "arr2"
   ]
  },
  {
   "cell_type": "code",
   "execution_count": 5,
   "id": "64231a61",
   "metadata": {},
   "outputs": [
    {
     "data": {
      "text/plain": [
       "array([[62, 52],\n",
       "       [44, 51],\n",
       "       [94,  3]])"
      ]
     },
     "execution_count": 5,
     "metadata": {},
     "output_type": "execute_result"
    }
   ],
   "source": [
    "np.random.randint(1,100,(3,2))"
   ]
  },
  {
   "cell_type": "code",
   "execution_count": 3,
   "id": "a4caaeea",
   "metadata": {},
   "outputs": [
    {
     "data": {
      "text/plain": [
       "(10, 5)"
      ]
     },
     "execution_count": 3,
     "metadata": {},
     "output_type": "execute_result"
    }
   ],
   "source": [
    "cero.shape"
   ]
  },
  {
   "cell_type": "code",
   "execution_count": 8,
   "id": "b31bdba5",
   "metadata": {},
   "outputs": [
    {
     "data": {
      "text/plain": [
       "(4, 4)"
      ]
     },
     "execution_count": 8,
     "metadata": {},
     "output_type": "execute_result"
    }
   ],
   "source": [
    "arr.shape"
   ]
  },
  {
   "cell_type": "code",
   "execution_count": 22,
   "id": "2b4b4bc3",
   "metadata": {},
   "outputs": [
    {
     "data": {
      "text/plain": [
       "array([[0.35021541, 0.79002467, 0.36498027, 0.83508986, 0.17935023,\n",
       "        0.55607454, 0.75371589, 0.33620026],\n",
       "       [0.38407451, 0.1604836 , 0.76273831, 0.69413098, 0.59238053,\n",
       "        0.40952549, 0.54552468, 0.45045005]])"
      ]
     },
     "execution_count": 22,
     "metadata": {},
     "output_type": "execute_result"
    }
   ],
   "source": [
    "np.reshape(arr,(2,8),\"C\")"
   ]
  },
  {
   "cell_type": "code",
   "execution_count": 23,
   "id": "a6e47902",
   "metadata": {},
   "outputs": [
    {
     "data": {
      "text/plain": [
       "array([[0.35021541, 0.79002467, 0.36498027, 0.83508986, 0.17935023,\n",
       "        0.55607454, 0.75371589, 0.33620026],\n",
       "       [0.38407451, 0.1604836 , 0.76273831, 0.69413098, 0.59238053,\n",
       "        0.40952549, 0.54552468, 0.45045005]])"
      ]
     },
     "execution_count": 23,
     "metadata": {},
     "output_type": "execute_result"
    }
   ],
   "source": [
    "np.reshape(arr,(2,8),\"F\")"
   ]
  },
  {
   "cell_type": "code",
   "execution_count": 33,
   "id": "3a19748e",
   "metadata": {},
   "outputs": [
    {
     "name": "stdout",
     "output_type": "stream",
     "text": [
      "(1, 1, 3, 3)\n"
     ]
    }
   ],
   "source": [
    "arr3=np.array([[[[1,2,3],[4,5,6],[7,8,9]]]])\n",
    "print(arr3.shape)"
   ]
  },
  {
   "cell_type": "code",
   "execution_count": 34,
   "id": "8e63b7cb",
   "metadata": {},
   "outputs": [
    {
     "data": {
      "text/plain": [
       "4"
      ]
     },
     "execution_count": 34,
     "metadata": {},
     "output_type": "execute_result"
    }
   ],
   "source": [
    "arr3.ndim"
   ]
  },
  {
   "cell_type": "code",
   "execution_count": 46,
   "id": "37f42062",
   "metadata": {},
   "outputs": [
    {
     "data": {
      "text/plain": [
       "array([[1, 2, 3],\n",
       "       [4, 5, 6],\n",
       "       [7, 8, 9]])"
      ]
     },
     "execution_count": 46,
     "metadata": {},
     "output_type": "execute_result"
    }
   ],
   "source": [
    "arr4=np.reshape(arr3,(3,3),\"C\")\n",
    "arr4"
   ]
  },
  {
   "cell_type": "code",
   "execution_count": 47,
   "id": "96c86b64",
   "metadata": {},
   "outputs": [
    {
     "data": {
      "text/plain": [
       "(3, 3)"
      ]
     },
     "execution_count": 47,
     "metadata": {},
     "output_type": "execute_result"
    }
   ],
   "source": [
    "arr4.shape"
   ]
  },
  {
   "cell_type": "code",
   "execution_count": 48,
   "id": "f0df27a7",
   "metadata": {},
   "outputs": [
    {
     "data": {
      "text/plain": [
       "2"
      ]
     },
     "execution_count": 48,
     "metadata": {},
     "output_type": "execute_result"
    }
   ],
   "source": [
    "arr4.ndim"
   ]
  }
 ],
 "metadata": {
  "kernelspec": {
   "display_name": "Python 3 (ipykernel)",
   "language": "python",
   "name": "python3"
  },
  "language_info": {
   "codemirror_mode": {
    "name": "ipython",
    "version": 3
   },
   "file_extension": ".py",
   "mimetype": "text/x-python",
   "name": "python",
   "nbconvert_exporter": "python",
   "pygments_lexer": "ipython3",
   "version": "3.9.13"
  }
 },
 "nbformat": 4,
 "nbformat_minor": 5
}
