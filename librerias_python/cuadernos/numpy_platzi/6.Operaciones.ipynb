{
 "cells": [
  {
   "cell_type": "code",
   "execution_count": 1,
   "id": "29506f33",
   "metadata": {},
   "outputs": [],
   "source": [
    "import numpy as np\n",
    "import pandas as pd"
   ]
  },
  {
   "cell_type": "markdown",
   "id": "53389002",
   "metadata": {},
   "source": [
    "                                Apuntes\n",
    "\n",
    "np.matmul hgalla el producto punto de 2 matrices.\n",
    "Producto punto (forma corta)"
   ]
  },
  {
   "cell_type": "markdown",
   "id": "08d4955f",
   "metadata": {},
   "source": [
    "Existen diferentes operaciones que se pueden usar para los arrays de NumPy.\n",
    "\n",
    "lista = [1,2]\n",
    "lista ----> [1, 2]"
   ]
  },
  {
   "cell_type": "markdown",
   "id": "8d8544ed",
   "metadata": {},
   "source": [
    "Una lista de Python entiende que quieres duplicar los datos. No es lo que buscamos.\n",
    "\n",
    "lista * 2 \n",
    "---> [1, 2, 1, 2]\n",
    "\n",
    "Pero Numpy lo entiende mucho mejor\n",
    "\n",
    "arr = np.arange(0,10)\n",
    "arr2 = arr.copy()\n",
    "arr ----> array([0, 1, 2, 3, 4, 5, 6, 7, 8, 9])\n",
    "\n",
    "Ahora multiplicamos por un vector:\n",
    "\n",
    "arr * 2 \n",
    "---> array([ 0,  2,  4,  6,  8, 10, 12, 14, 16, 18])"
   ]
  },
  {
   "cell_type": "markdown",
   "id": "6ad2d26e",
   "metadata": {},
   "source": [
    "Operación suma de vectores:\n",
    "\n",
    "arr + 2 \n",
    "---> array([ 2,  3,  4,  5,  6,  7,  8,  9, 10, 11])\n",
    "\n",
    "División con un vector\n",
    "Como en este caso la primera posición del array es 0, muestra un error pero, no detiene el proceso.\n",
    "\n",
    "1 / arr\n",
    "\n",
    "---> RuntimeWarning: divide by zero encountered in true_divide\n",
    "  \"\"\"Entry point for launching an IPython kernel.\n",
    "  \n",
    "---> array([    inf,   1.  , 0.5 , 0.33333333, 0.25 ,0.2, 0.16666667, 0.14285714, 0.125 , 0.11111111])"
   ]
  },
  {
   "cell_type": "markdown",
   "id": "89509314",
   "metadata": {},
   "source": [
    "Elevar a un vector:\n",
    "\n",
    "arr**2 \n",
    "---> array([ 0,  1,  4,  9, 16, 25, 36, 49, 64, 81])\n",
    "Sumar dos arrays de igual dimensiones las hace elemento por elemento:\n",
    "\n",
    "arr + arr2 \n",
    "---> array([ 0,  2,  4,  6,  8, 10, 12, 14, 16, 18])\n",
    "Lo mismo aplica para matrices.\n",
    "\n",
    "matriz = arr.reshape(2,5)\n",
    "matriz2 = matriz.copy()\n",
    "matriz\n",
    "---> array([[0, 1, 2, 3, 4],\n",
    "      \t [5, 6, 7, 8, 9]])\n",
    "matriz - matriz2\n",
    "---> array([[0, 0, 0, 0, 0],\n",
    "      \t [0, 0, 0, 0, 0]])"
   ]
  },
  {
   "cell_type": "markdown",
   "id": "51c5c231",
   "metadata": {},
   "source": [
    "Una operación importante es la de punto por punto, aquí dos formas de hacerla:\n",
    "\n",
    "np.matmul(matriz, matriz2.T)\n",
    "---> array([[ 30,  80],\n",
    "      \t [ 80, 255]])\n",
    "matriz @ matriz2.T\n",
    "---> array([[ 30,  80],\n",
    "       [ 80, 255]])"
   ]
  },
  {
   "cell_type": "code",
   "execution_count": 2,
   "id": "43a3e71d",
   "metadata": {},
   "outputs": [
    {
     "data": {
      "text/plain": [
       "array([0, 1, 2, 3, 4, 5, 6, 7, 8, 9])"
      ]
     },
     "execution_count": 2,
     "metadata": {},
     "output_type": "execute_result"
    }
   ],
   "source": [
    "arr=np.arange(0,10)\n",
    "arr"
   ]
  },
  {
   "cell_type": "code",
   "execution_count": 3,
   "id": "d35d92cd",
   "metadata": {},
   "outputs": [
    {
     "data": {
      "text/plain": [
       "array([0, 1, 2, 3, 4, 5, 6, 7, 8, 9])"
      ]
     },
     "execution_count": 3,
     "metadata": {},
     "output_type": "execute_result"
    }
   ],
   "source": [
    "arr2=arr.copy()\n",
    "arr2"
   ]
  },
  {
   "cell_type": "markdown",
   "id": "02067d76",
   "metadata": {},
   "source": [
    "Operaciones"
   ]
  },
  {
   "cell_type": "code",
   "execution_count": 4,
   "id": "225cfe77",
   "metadata": {},
   "outputs": [
    {
     "data": {
      "text/plain": [
       "array([0, 1, 2, 3, 4, 5, 6, 7, 8, 9])"
      ]
     },
     "execution_count": 4,
     "metadata": {},
     "output_type": "execute_result"
    }
   ],
   "source": [
    "arr"
   ]
  },
  {
   "cell_type": "code",
   "execution_count": 5,
   "id": "2261864c",
   "metadata": {},
   "outputs": [
    {
     "data": {
      "text/plain": [
       "array([ 0,  2,  4,  6,  8, 10, 12, 14, 16, 18])"
      ]
     },
     "execution_count": 5,
     "metadata": {},
     "output_type": "execute_result"
    }
   ],
   "source": [
    "arr * 2"
   ]
  },
  {
   "cell_type": "code",
   "execution_count": 6,
   "id": "e3aeb971",
   "metadata": {},
   "outputs": [
    {
     "name": "stderr",
     "output_type": "stream",
     "text": [
      "C:\\Users\\USUARIO\\AppData\\Local\\Temp\\ipykernel_19248\\255282349.py:1: RuntimeWarning: divide by zero encountered in true_divide\n",
      "  1/arr\n"
     ]
    },
    {
     "data": {
      "text/plain": [
       "array([       inf, 1.        , 0.5       , 0.33333333, 0.25      ,\n",
       "       0.2       , 0.16666667, 0.14285714, 0.125     , 0.11111111])"
      ]
     },
     "execution_count": 6,
     "metadata": {},
     "output_type": "execute_result"
    }
   ],
   "source": [
    "1/arr"
   ]
  },
  {
   "cell_type": "code",
   "execution_count": 7,
   "id": "e6d31c54",
   "metadata": {},
   "outputs": [
    {
     "data": {
      "text/plain": [
       "array([[0, 1, 2, 3, 4],\n",
       "       [5, 6, 7, 8, 9]])"
      ]
     },
     "execution_count": 7,
     "metadata": {},
     "output_type": "execute_result"
    }
   ],
   "source": [
    "matriz=arr.reshape(2,5)\n",
    "matriz"
   ]
  },
  {
   "cell_type": "code",
   "execution_count": 8,
   "id": "63a0f7a2",
   "metadata": {},
   "outputs": [],
   "source": [
    "matriz2=matriz.copy()"
   ]
  },
  {
   "cell_type": "code",
   "execution_count": 9,
   "id": "187bf163",
   "metadata": {},
   "outputs": [
    {
     "data": {
      "text/plain": [
       "array([[ 0,  2,  4,  6,  8],\n",
       "       [10, 12, 14, 16, 18]])"
      ]
     },
     "execution_count": 9,
     "metadata": {},
     "output_type": "execute_result"
    }
   ],
   "source": [
    "matriz + matriz2"
   ]
  },
  {
   "cell_type": "code",
   "execution_count": 10,
   "id": "ee83ef98",
   "metadata": {},
   "outputs": [
    {
     "data": {
      "text/plain": [
       "array([[ 0,  1,  4,  9, 16],\n",
       "       [25, 36, 49, 64, 81]])"
      ]
     },
     "execution_count": 10,
     "metadata": {},
     "output_type": "execute_result"
    }
   ],
   "source": [
    "matriz * matriz2"
   ]
  },
  {
   "cell_type": "code",
   "execution_count": 14,
   "id": "519f0b38",
   "metadata": {},
   "outputs": [
    {
     "data": {
      "text/plain": [
       "array([[ 30,  80],\n",
       "       [ 80, 255]])"
      ]
     },
     "execution_count": 14,
     "metadata": {},
     "output_type": "execute_result"
    }
   ],
   "source": [
    "np.matmul(matriz,matriz2.T)"
   ]
  },
  {
   "cell_type": "code",
   "execution_count": 17,
   "id": "d3d418c4",
   "metadata": {},
   "outputs": [
    {
     "data": {
      "text/plain": [
       "array([[ 30,  80],\n",
       "       [ 80, 255]])"
      ]
     },
     "execution_count": 17,
     "metadata": {},
     "output_type": "execute_result"
    }
   ],
   "source": [
    "matriz @ matriz2.T"
   ]
  },
  {
   "cell_type": "code",
   "execution_count": 2,
   "id": "1c686ec4",
   "metadata": {},
   "outputs": [
    {
     "data": {
      "text/plain": [
       "[1, 2]"
      ]
     },
     "execution_count": 2,
     "metadata": {},
     "output_type": "execute_result"
    }
   ],
   "source": [
    "lista=[1,2]\n",
    "lista"
   ]
  },
  {
   "cell_type": "code",
   "execution_count": 4,
   "id": "8a0e975d",
   "metadata": {},
   "outputs": [
    {
     "data": {
      "text/plain": [
       "array([0, 1, 2, 3, 4, 5, 6, 7, 8, 9])"
      ]
     },
     "execution_count": 4,
     "metadata": {},
     "output_type": "execute_result"
    }
   ],
   "source": [
    "arr=np.arange(0,10)\n",
    "arr2=arr.copy()\n",
    "arr2"
   ]
  },
  {
   "cell_type": "code",
   "execution_count": 5,
   "id": "ce883ce3",
   "metadata": {},
   "outputs": [
    {
     "data": {
      "text/plain": [
       "array([0, 1, 2, 3, 4, 5, 6, 7, 8, 9])"
      ]
     },
     "execution_count": 5,
     "metadata": {},
     "output_type": "execute_result"
    }
   ],
   "source": [
    "arr"
   ]
  },
  {
   "cell_type": "code",
   "execution_count": 6,
   "id": "41699831",
   "metadata": {},
   "outputs": [
    {
     "data": {
      "text/plain": [
       "array([ 0,  2,  4,  6,  8, 10, 12, 14, 16, 18])"
      ]
     },
     "execution_count": 6,
     "metadata": {},
     "output_type": "execute_result"
    }
   ],
   "source": [
    "arr*2"
   ]
  },
  {
   "cell_type": "code",
   "execution_count": 7,
   "id": "09dcf5a6",
   "metadata": {},
   "outputs": [
    {
     "data": {
      "text/plain": [
       "array([ 2,  3,  4,  5,  6,  7,  8,  9, 10, 11])"
      ]
     },
     "execution_count": 7,
     "metadata": {},
     "output_type": "execute_result"
    }
   ],
   "source": [
    "arr+2"
   ]
  },
  {
   "cell_type": "code",
   "execution_count": 8,
   "id": "0289474b",
   "metadata": {},
   "outputs": [
    {
     "data": {
      "text/plain": [
       "array([ 0,  1,  4,  9, 16, 25, 36, 49, 64, 81], dtype=int32)"
      ]
     },
     "execution_count": 8,
     "metadata": {},
     "output_type": "execute_result"
    }
   ],
   "source": [
    "arr**2"
   ]
  },
  {
   "cell_type": "code",
   "execution_count": 9,
   "id": "57502f5e",
   "metadata": {},
   "outputs": [
    {
     "data": {
      "text/plain": [
       "array([ 0,  1,  4,  9, 16, 25, 36, 49, 64, 81])"
      ]
     },
     "execution_count": 9,
     "metadata": {},
     "output_type": "execute_result"
    }
   ],
   "source": [
    "arr*arr2"
   ]
  },
  {
   "cell_type": "code",
   "execution_count": 10,
   "id": "ee14435d",
   "metadata": {},
   "outputs": [
    {
     "data": {
      "text/plain": [
       "array([ 0,  2,  4,  6,  8, 10, 12, 14, 16, 18])"
      ]
     },
     "execution_count": 10,
     "metadata": {},
     "output_type": "execute_result"
    }
   ],
   "source": [
    "arr+arr2"
   ]
  },
  {
   "cell_type": "code",
   "execution_count": 12,
   "id": "b2556a62",
   "metadata": {},
   "outputs": [],
   "source": [
    "matriz=arr.reshape(2,5)\n",
    "matriz2=matriz.copy()"
   ]
  },
  {
   "cell_type": "code",
   "execution_count": 30,
   "id": "dde00a42",
   "metadata": {},
   "outputs": [
    {
     "data": {
      "text/plain": [
       "array([[0, 1],\n",
       "       [2, 3],\n",
       "       [4, 5],\n",
       "       [6, 7],\n",
       "       [8, 9]])"
      ]
     },
     "execution_count": 30,
     "metadata": {},
     "output_type": "execute_result"
    }
   ],
   "source": [
    "matriz.reshape(5,2)\n",
    "matriz2"
   ]
  },
  {
   "cell_type": "code",
   "execution_count": 32,
   "id": "3521af79",
   "metadata": {},
   "outputs": [
    {
     "data": {
      "text/plain": [
       "array([[ 60,  70],\n",
       "       [160, 195]])"
      ]
     },
     "execution_count": 32,
     "metadata": {},
     "output_type": "execute_result"
    }
   ],
   "source": [
    "#Producto punto\n",
    "np.matmul(matriz,matriz2)"
   ]
  },
  {
   "cell_type": "code",
   "execution_count": 35,
   "id": "d9c732a1",
   "metadata": {},
   "outputs": [
    {
     "data": {
      "text/plain": [
       "(2, 5)"
      ]
     },
     "execution_count": 35,
     "metadata": {},
     "output_type": "execute_result"
    }
   ],
   "source": [
    "matriz.shape"
   ]
  },
  {
   "cell_type": "code",
   "execution_count": 36,
   "id": "b245e92d",
   "metadata": {},
   "outputs": [
    {
     "data": {
      "text/plain": [
       "(5, 2)"
      ]
     },
     "execution_count": 36,
     "metadata": {},
     "output_type": "execute_result"
    }
   ],
   "source": [
    "matriz2.shape"
   ]
  },
  {
   "cell_type": "code",
   "execution_count": 40,
   "id": "170435ce",
   "metadata": {},
   "outputs": [
    {
     "data": {
      "text/plain": [
       "array([[ 60,  70],\n",
       "       [160, 195]])"
      ]
     },
     "execution_count": 40,
     "metadata": {},
     "output_type": "execute_result"
    }
   ],
   "source": [
    "matriz@matriz2"
   ]
  }
 ],
 "metadata": {
  "kernelspec": {
   "display_name": "Python 3 (ipykernel)",
   "language": "python",
   "name": "python3"
  },
  "language_info": {
   "codemirror_mode": {
    "name": "ipython",
    "version": 3
   },
   "file_extension": ".py",
   "mimetype": "text/x-python",
   "name": "python",
   "nbconvert_exporter": "python",
   "pygments_lexer": "ipython3",
   "version": "3.9.13"
  }
 },
 "nbformat": 4,
 "nbformat_minor": 5
}
