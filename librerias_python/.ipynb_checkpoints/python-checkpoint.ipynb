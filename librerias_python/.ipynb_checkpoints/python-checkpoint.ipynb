{
 "cells": [
  {
   "cell_type": "code",
   "execution_count": 4,
   "id": "9fc274ee",
   "metadata": {},
   "outputs": [
    {
     "name": "stdout",
     "output_type": "stream",
     "text": [
      "Escribe una palabra: AnNa\n",
      "Es palindromo.\n"
     ]
    }
   ],
   "source": [
    "#Ya se repasaron: funciones_principales, agregar_eliminar, condiciones, archivos_csv.\n",
    "#Falta repasar: apply y merge_join\n",
    "\n",
    "\n",
    "def palindromo(palabra):\n",
    "    palabra=palabra.replace(\" \", \"\")\n",
    "    palabra=palabra.lower()\n",
    "    palabra_invertida = palabra[::-1]\n",
    "    if palabra_invertida == palabra:\n",
    "        return True\n",
    "    else:\n",
    "        return False\n",
    "    \n",
    "\n",
    "def run():\n",
    "    palabra=input(\"Escribe una palabra: \")\n",
    "    es_palindromo=palindromo(palabra)\n",
    "    if es_palindromo == True:\n",
    "        print(\"Es palindromo.\")\n",
    "    else:\n",
    "        print(\"No es palindromo.\")\n",
    "        \n",
    "        \n",
    "if __name__ == \"__main__\":\n",
    "    run()"
   ]
  },
  {
   "cell_type": "code",
   "execution_count": 3,
   "id": "6249765d",
   "metadata": {},
   "outputs": [
    {
     "name": "stdout",
     "output_type": "stream",
     "text": [
      "Escribe una palabra: luIS\n",
      "No es palindromo.\n"
     ]
    }
   ],
   "source": [
    "def palindromo(palabra):\n",
    "    palabra=palabra.replace(\" \",\"\")\n",
    "    palabra=palabra.lower()\n",
    "    palabra_invertida=palabra[::-1]\n",
    "    if palabra_invertida == palabra:\n",
    "        return True\n",
    "    else:\n",
    "        return False\n",
    "\n",
    "\n",
    "def run():\n",
    "    palabra=input(\"Escribe una palabra: \")\n",
    "    es_palindromo=palindromo(palabra)\n",
    "    if es_palindromo==True:\n",
    "        print(\"Es palindromo.\")\n",
    "    else:\n",
    "        print(\"No es palindromo.\")\n",
    "\n",
    "\n",
    "if __name__ == \"__main__\":\n",
    "    run()"
   ]
  }
 ],
 "metadata": {
  "kernelspec": {
   "display_name": "Python 3 (ipykernel)",
   "language": "python",
   "name": "python3"
  },
  "language_info": {
   "codemirror_mode": {
    "name": "ipython",
    "version": 3
   },
   "file_extension": ".py",
   "mimetype": "text/x-python",
   "name": "python",
   "nbconvert_exporter": "python",
   "pygments_lexer": "ipython3",
   "version": "3.9.13"
  }
 },
 "nbformat": 4,
 "nbformat_minor": 5
}
